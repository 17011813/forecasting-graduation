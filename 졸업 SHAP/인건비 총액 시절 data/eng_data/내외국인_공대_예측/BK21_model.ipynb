{
 "cells": [
  {
   "cell_type": "code",
   "execution_count": 224,
   "metadata": {},
   "outputs": [],
   "source": [
    "import lightgbm\n",
    "import glob, os\n",
    "import pandas as pd\n",
    "from sklearn.model_selection import StratifiedKFold, cross_val_score\n",
    "from sklearn.metrics import classification_report, confusion_matrix, accuracy_score"
   ]
  },
  {
   "cell_type": "markdown",
   "metadata": {},
   "source": [
    "------\n",
    "## 1. 전체 석사 졸업 예측"
   ]
  },
  {
   "cell_type": "code",
   "execution_count": 226,
   "metadata": {},
   "outputs": [
    {
     "name": "stdout",
     "output_type": "stream",
     "text": [
      "['f:\\\\OneDrive - 고려대학교\\\\내 드라이브\\\\고려대학교\\\\대학원\\\\장학금\\\\BK21 4단계 대학원 혁신 펠로우쉽 연구과제\\\\내외국인_공대\\\\original_data\\\\std_info_grad_ms.csv', 'f:\\\\OneDrive - 고려대학교\\\\내 드라이브\\\\고려대학교\\\\대학원\\\\장학금\\\\BK21 4단계 대학원 혁신 펠로우쉽 연구과제\\\\내외국인_공대\\\\original_data\\\\std_info_ms.csv']\n"
     ]
    }
   ],
   "source": [
    "total_ms_list = glob.glob(os.path.join(os.getcwd(), 'original_data', '*ms.csv'))\n",
    "print(total_ms_list)"
   ]
  },
  {
   "cell_type": "code",
   "execution_count": 227,
   "metadata": {},
   "outputs": [],
   "source": [
    "ms_grad = pd.read_csv(total_ms_list[0])\n",
    "ms_undergrad = pd.read_csv(total_ms_list[1])\n"
   ]
  },
  {
   "cell_type": "code",
   "execution_count": 228,
   "metadata": {},
   "outputs": [],
   "source": [
    "'''\n",
    "ms_grad.columns = \n",
    "['Unnamed: 0', 'Unnamed: 0.1', 'Unnamed: 0.1.1', '학번', '학생소속대학명',\n",
    "'학생교육부계열', '성별', '입학과정', '학적', '학과', '전공', '전공교수', 'rec014_nation_cd',\n",
    "'과정', '수료년도', '수료학기', 'rec014_birth_dt', '졸업년도', '졸업학기', 'gpa',\n",
    "'rec014_school_term', '서류점수', '면접점수', '학부출신', '대학원출신', '인건비총액']\n",
    "'''\n",
    "ms_grad.columns = ['Unnamed: 0', 'Unnamed: 0.1', 'Unnamed: 0.1.1', '학번', '학생소속대학명',        #학습 위해서 column name(rec014~) 변경\n",
    "'학생교육부계열', '성별', '입학과정', '학적', '학과', '전공', '전공교수', 'nation_cd',\n",
    "'과정', '수료년도', '수료학기', 'rec014_birth_dt', '졸업년도', '졸업학기', 'gpa',\n",
    "'school_term', '서류점수', '면접점수', '학부출신', '대학원출신', '인건비총액']\n",
    "\n",
    "grad_cat_features = ['학생소속대학명', '학생교육부계열', '성별', '입학과정', '학과', 'nation_cd', '학부출신']    #범주형 데이터\n",
    "grad_num_features = ['gpa', '서류점수', '면접점수', '인건비총액']       #연속형 데이터\n",
    "grad_term = ['school_term']\n",
    "\n",
    "for i in grad_cat_features:\n",
    "    ms_grad[i] = ms_grad[i].astype('category')"
   ]
  },
  {
   "cell_type": "markdown",
   "metadata": {},
   "source": [
    "### 졸업자 정보에 대하여 Stratified 5-Fold 학습\n"
   ]
  },
  {
   "cell_type": "code",
   "execution_count": 229,
   "metadata": {},
   "outputs": [
    {
     "name": "stdout",
     "output_type": "stream",
     "text": [
      "Fold 0:\n",
      "               precision    recall  f1-score   support\n",
      "\n",
      "           2       0.00      0.00      0.00         4\n",
      "           3       1.00      0.75      0.86         8\n",
      "           4       0.97      1.00      0.98       925\n",
      "           5       0.50      0.05      0.10        19\n",
      "           6       0.00      0.00      0.00         4\n",
      "           7       0.00      0.00      0.00         1\n",
      "\n",
      "    accuracy                           0.97       961\n",
      "   macro avg       0.41      0.30      0.32       961\n",
      "weighted avg       0.95      0.97      0.96       961\n",
      "\n",
      "Fold 1:\n",
      "               precision    recall  f1-score   support\n",
      "\n",
      "           2       1.00      0.67      0.80         3\n",
      "           3       1.00      0.88      0.93         8\n",
      "           4       0.97      1.00      0.99       925\n",
      "           5       0.00      0.00      0.00        19\n",
      "           6       0.00      0.00      0.00         4\n",
      "           7       0.00      0.00      0.00         1\n",
      "\n",
      "    accuracy                           0.97       960\n",
      "   macro avg       0.50      0.42      0.45       960\n",
      "weighted avg       0.95      0.97      0.96       960\n",
      "\n",
      "Fold 2:\n",
      "               precision    recall  f1-score   support\n",
      "\n",
      "           2       1.00      0.33      0.50         3\n",
      "           3       1.00      0.75      0.86         8\n",
      "           4       0.97      1.00      0.99       925\n",
      "           5       0.50      0.11      0.17        19\n",
      "           6       0.00      0.00      0.00         3\n",
      "           7       0.00      0.00      0.00         2\n",
      "\n",
      "    accuracy                           0.97       960\n",
      "   macro avg       0.58      0.36      0.42       960\n",
      "weighted avg       0.96      0.97      0.96       960\n",
      "\n",
      "Fold 3:\n",
      "               precision    recall  f1-score   support\n",
      "\n",
      "           2       0.00      0.00      0.00         4\n",
      "           3       1.00      0.22      0.36         9\n",
      "           4       0.97      1.00      0.98       925\n",
      "           5       0.00      0.00      0.00        18\n",
      "           6       0.00      0.00      0.00         3\n",
      "           7       0.00      0.00      0.00         1\n",
      "\n",
      "    accuracy                           0.96       960\n",
      "   macro avg       0.33      0.20      0.22       960\n",
      "weighted avg       0.94      0.96      0.95       960\n",
      "\n",
      "Fold 4:\n",
      "               precision    recall  f1-score   support\n",
      "\n",
      "           2       1.00      0.25      0.40         4\n",
      "           3       1.00      0.25      0.40         8\n",
      "           4       0.97      1.00      0.98       924\n",
      "           5       0.00      0.00      0.00        19\n",
      "           6       0.00      0.00      0.00         4\n",
      "           7       0.00      0.00      0.00         1\n",
      "\n",
      "    accuracy                           0.96       960\n",
      "   macro avg       0.49      0.25      0.30       960\n",
      "weighted avg       0.94      0.96      0.95       960\n",
      "\n",
      "masters cross validation result :  [0.9687825182101977, 0.9708333333333333, 0.9708333333333333, 0.9635416666666666, 0.9625]\n"
     ]
    }
   ],
   "source": [
    "model = lightgbm.LGBMClassifier()\n",
    "skfold = StratifiedKFold(n_splits=5)\n",
    "\n",
    "cv_accuracy = []\n",
    "\n",
    "X_grad = ms_grad[grad_cat_features + grad_num_features]\n",
    "y_grad = ms_grad[grad_term]\n",
    "\n",
    "iter = 0\n",
    "for train_idx, test_idx in skfold.split(X_grad, y_grad):\n",
    "    # print(X_grad.iloc[train_idx])\n",
    "    # print(y_grad.iloc[test_idx])\n",
    "    model.fit(X_grad.iloc[train_idx], y_grad.iloc[train_idx].values.ravel())\n",
    "    pred = model.predict(X_grad.iloc[test_idx])\n",
    "    cv_accuracy.append(accuracy_score(y_grad.iloc[test_idx], pred))\n",
    "    print(f\"Fold {iter}:\\n\",classification_report(y_grad.iloc[test_idx], pred, zero_division=0))\n",
    "    iter += 1\n",
    "\n",
    "print(\"masters cross validation result : \", cv_accuracy)"
   ]
  },
  {
   "cell_type": "markdown",
   "metadata": {},
   "source": [
    "### 재학자에 대한 예측"
   ]
  },
  {
   "cell_type": "code",
   "execution_count": 230,
   "metadata": {},
   "outputs": [],
   "source": [
    "'''\n",
    "ms_undergrad.columns = \n",
    "['Unnamed: 0', 'Unnamed: 0.1', 'Unnamed: 0.1.1', '학번', '학생소속대학명',\n",
    "       '학생교육부계열', '성별', '입학과정', '학적', '학과', '전공', '전공교수', 'rec012_nation_cd',\n",
    "       '과정', '수료년도', '수료학기', 'rec012_birth_dt', 'gpa', 'rec012_school_term',\n",
    "       '인건비총액', '서류점수', '면접점수', '학부출신', '대학원출신']\n",
    "'''\n",
    "ms_undergrad.columns = ['Unnamed: 0', 'Unnamed: 0.1', 'Unnamed: 0.1.1', '학번', '학생소속대학명',\n",
    "       '학생교육부계열', '성별', '입학과정', '학적', '학과', '전공', '전공교수', 'nation_cd',\n",
    "       '과정', '수료년도', '수료학기', 'rec012_birth_dt', 'gpa', 'school_term',\n",
    "       '인건비총액', '서류점수', '면접점수', '학부출신', '대학원출신']\n",
    "\n",
    "undergrad_cat_features = ['학생소속대학명', '학생교육부계열', '성별', '입학과정', '학과', 'nation_cd', '학부출신']    #범주형 데이터\n",
    "undergrad_num_features = ['gpa', '서류점수', '면접점수', '인건비총액']       #연속형 데이터\n",
    "undergrad_term = ['school_term']\n",
    "\n",
    "for i in undergrad_cat_features:\n",
    "    ms_undergrad[i] = ms_undergrad[i].astype('category')\n",
    "\n",
    "X_undergrad = ms_undergrad[undergrad_cat_features + undergrad_num_features]\n",
    "\n",
    "y_undergrad = pd.DataFrame(model.predict(X_undergrad))"
   ]
  },
  {
   "cell_type": "code",
   "execution_count": 231,
   "metadata": {},
   "outputs": [],
   "source": [
    "ms_undergrad['predicted_school_term'] = y_undergrad\n",
    "ms_undergrad.to_csv(os.path.join(os.getcwd(), 'prediction_result', 'original_data', 'std_info_ms_predicted.csv'))"
   ]
  },
  {
   "cell_type": "markdown",
   "metadata": {},
   "source": [
    "------\n",
    "## 2. 전체 박사 졸업 예측"
   ]
  },
  {
   "cell_type": "code",
   "execution_count": 232,
   "metadata": {},
   "outputs": [
    {
     "name": "stdout",
     "output_type": "stream",
     "text": [
      "['f:\\\\OneDrive - 고려대학교\\\\내 드라이브\\\\고려대학교\\\\대학원\\\\장학금\\\\BK21 4단계 대학원 혁신 펠로우쉽 연구과제\\\\내외국인_공대\\\\original_data\\\\std_info_grad_phd.csv', 'f:\\\\OneDrive - 고려대학교\\\\내 드라이브\\\\고려대학교\\\\대학원\\\\장학금\\\\BK21 4단계 대학원 혁신 펠로우쉽 연구과제\\\\내외국인_공대\\\\original_data\\\\std_info_phd.csv']\n"
     ]
    }
   ],
   "source": [
    "total_phd_list = glob.glob(os.path.join(os.getcwd(), 'original_data', '*phd.csv'))\n",
    "print(total_phd_list)"
   ]
  },
  {
   "cell_type": "code",
   "execution_count": 233,
   "metadata": {},
   "outputs": [],
   "source": [
    "phd_grad = pd.read_csv(total_phd_list[0])\n",
    "phd_undergrad = pd.read_csv(total_phd_list[1])\n"
   ]
  },
  {
   "cell_type": "code",
   "execution_count": 234,
   "metadata": {},
   "outputs": [],
   "source": [
    "'''\n",
    "phd_grad.columns = \n",
    "['Unnamed: 0', 'Unnamed: 0.1', 'Unnamed: 0.1.1', '학번', '학생소속대학명',\n",
    "'학생교육부계열', '성별', '입학과정', '학적', '학과', '전공', '전공교수', 'rec014_nation_cd',\n",
    "'과정', '수료년도', '수료학기', 'rec014_birth_dt', '졸업년도', '졸업학기', 'gpa',\n",
    "'rec014_school_term', '서류점수', '면접점수', '학부출신', '대학원출신', '인건비총액']\n",
    "'''\n",
    "phd_grad.columns = ['Unnamed: 0', 'Unnamed: 0.1', 'Unnamed: 0.1.1', '학번', '학생소속대학명',        #학습 위해서 column name(rec014~) 변경\n",
    "'학생교육부계열', '성별', '입학과정', '학적', '학과', '전공', '전공교수', 'nation_cd',\n",
    "'과정', '수료년도', '수료학기', 'rec014_birth_dt', '졸업년도', '졸업학기', 'gpa',\n",
    "'school_term', '서류점수', '면접점수', '학부출신', '대학원출신', '인건비총액']\n",
    "\n",
    "grad_cat_features = ['학생소속대학명', '학생교육부계열', '성별', '입학과정', '학과', 'nation_cd', '학부출신']    #범주형 데이터\n",
    "grad_num_features = ['gpa', '서류점수', '면접점수', '인건비총액']       #연속형 데이터\n",
    "grad_term = ['school_term']\n",
    "\n",
    "for i in grad_cat_features:\n",
    "    phd_grad[i] = phd_grad[i].astype('category')"
   ]
  },
  {
   "cell_type": "markdown",
   "metadata": {},
   "source": [
    "### 졸업자 정보에 대하여 Stratified 5-Fold 학습\n"
   ]
  },
  {
   "cell_type": "code",
   "execution_count": 235,
   "metadata": {},
   "outputs": [
    {
     "name": "stdout",
     "output_type": "stream",
     "text": [
      "Fold 0:\n",
      "               precision    recall  f1-score   support\n",
      "\n",
      "           4       0.93      0.99      0.96       112\n",
      "           5       0.00      0.00      0.00         7\n",
      "           6       0.00      0.00      0.00         1\n",
      "\n",
      "    accuracy                           0.93       120\n",
      "   macro avg       0.31      0.33      0.32       120\n",
      "weighted avg       0.87      0.93      0.90       120\n",
      "\n",
      "Fold 1:\n",
      "               precision    recall  f1-score   support\n",
      "\n",
      "           4       0.93      1.00      0.97       112\n",
      "           5       0.00      0.00      0.00         7\n",
      "           6       0.00      0.00      0.00         1\n",
      "\n",
      "    accuracy                           0.93       120\n",
      "   macro avg       0.31      0.33      0.32       120\n",
      "weighted avg       0.87      0.93      0.90       120\n",
      "\n",
      "Fold 2:\n",
      "               precision    recall  f1-score   support\n",
      "\n",
      "           4       0.94      1.00      0.97       112\n",
      "           5       1.00      0.14      0.25         7\n",
      "           6       0.00      0.00      0.00         1\n",
      "\n",
      "    accuracy                           0.94       120\n",
      "   macro avg       0.65      0.38      0.41       120\n",
      "weighted avg       0.94      0.94      0.92       120\n",
      "\n",
      "Fold 3:\n",
      "               precision    recall  f1-score   support\n",
      "\n",
      "           4       0.93      0.97      0.95       112\n",
      "           5       0.00      0.00      0.00         7\n",
      "           6       0.00      0.00      0.00         1\n",
      "\n",
      "    accuracy                           0.91       120\n",
      "   macro avg       0.31      0.32      0.32       120\n",
      "weighted avg       0.87      0.91      0.89       120\n",
      "\n",
      "Fold 4:\n",
      "               precision    recall  f1-score   support\n",
      "\n",
      "           4       0.93      0.98      0.96       111\n",
      "           5       0.00      0.00      0.00         7\n",
      "           6       0.00      0.00      0.00         1\n",
      "\n",
      "    accuracy                           0.92       119\n",
      "   macro avg       0.31      0.33      0.32       119\n",
      "weighted avg       0.87      0.92      0.89       119\n",
      "\n",
      "masters cross validation result :  [0.925, 0.9333333333333333, 0.9416666666666667, 0.9083333333333333, 0.9159663865546218]\n"
     ]
    }
   ],
   "source": [
    "model = lightgbm.LGBMClassifier()\n",
    "skfold = StratifiedKFold(n_splits=5)\n",
    "\n",
    "cv_accuracy = []\n",
    "\n",
    "X_grad = phd_grad[grad_cat_features + grad_num_features]\n",
    "y_grad = phd_grad[grad_term]\n",
    "\n",
    "iter = 0\n",
    "for train_idx, test_idx in skfold.split(X_grad, y_grad):\n",
    "    # print(X_grad.iloc[train_idx])\n",
    "    # print(y_grad.iloc[test_idx])\n",
    "    model.fit(X_grad.iloc[train_idx], y_grad.iloc[train_idx].values.ravel())\n",
    "    pred = model.predict(X_grad.iloc[test_idx])\n",
    "    cv_accuracy.append(accuracy_score(y_grad.iloc[test_idx], pred))\n",
    "    print(f\"Fold {iter}:\\n\",classification_report(y_grad.iloc[test_idx], pred, zero_division=0))\n",
    "    iter += 1\n",
    "\n",
    "print(\"masters cross validation result : \", cv_accuracy)"
   ]
  },
  {
   "cell_type": "markdown",
   "metadata": {},
   "source": [
    "### 재학자에 대한 예측"
   ]
  },
  {
   "cell_type": "code",
   "execution_count": 236,
   "metadata": {},
   "outputs": [],
   "source": [
    "'''\n",
    "phd_undergrad.columns = \n",
    "['Unnamed: 0', 'Unnamed: 0.1', 'Unnamed: 0.1.1', '학번', '학생소속대학명',\n",
    "       '학생교육부계열', '성별', '입학과정', '학적', '학과', '전공', '전공교수', 'rec012_nation_cd',\n",
    "       '과정', '수료년도', '수료학기', 'rec012_birth_dt', 'gpa', 'rec012_school_term',\n",
    "       '서류점수', '면접점수', '학부출신', '대학원출신', '인건비총액']\n",
    "'''\n",
    "phd_undergrad.columns = ['Unnamed: 0', 'Unnamed: 0.1', 'Unnamed: 0.1.1', '학번', '학생소속대학명',\n",
    "       '학생교육부계열', '성별', '입학과정', '학적', '학과', '전공', '전공교수', 'nation_cd',\n",
    "       '과정', '수료년도', '수료학기', 'rec012_birth_dt', 'gpa', 'school_term',\n",
    "       '서류점수', '면접점수', '학부출신', '대학원출신', '인건비총액']\n",
    "\n",
    "undergrad_cat_features = ['학생소속대학명', '학생교육부계열', '성별', '입학과정', '학과', 'nation_cd', '학부출신']    #범주형 데이터\n",
    "undergrad_num_features = ['gpa', '서류점수', '면접점수', '인건비총액']       #연속형 데이터\n",
    "undergrad_term = ['school_term']\n",
    "\n",
    "for i in undergrad_cat_features:\n",
    "    phd_undergrad[i] = phd_undergrad[i].astype('category')\n",
    "\n",
    "X_undergrad = phd_undergrad[undergrad_cat_features + undergrad_num_features]\n",
    "\n",
    "y_undergrad = pd.DataFrame(model.predict(X_undergrad))"
   ]
  },
  {
   "cell_type": "code",
   "execution_count": 237,
   "metadata": {},
   "outputs": [],
   "source": [
    "phd_undergrad['predicted_school_term'] = y_undergrad\n",
    "phd_undergrad.to_csv(os.path.join(os.getcwd(), 'prediction_result', 'original_data', 'std_info_phd_predicted.csv'))"
   ]
  },
  {
   "cell_type": "markdown",
   "metadata": {},
   "source": [
    "------\n",
    "## 3. 전체 석박통합 졸업 예측"
   ]
  },
  {
   "cell_type": "code",
   "execution_count": 238,
   "metadata": {},
   "outputs": [
    {
     "name": "stdout",
     "output_type": "stream",
     "text": [
      "['f:\\\\OneDrive - 고려대학교\\\\내 드라이브\\\\고려대학교\\\\대학원\\\\장학금\\\\BK21 4단계 대학원 혁신 펠로우쉽 연구과제\\\\내외국인_공대\\\\original_data\\\\std_info_combined.csv', 'f:\\\\OneDrive - 고려대학교\\\\내 드라이브\\\\고려대학교\\\\대학원\\\\장학금\\\\BK21 4단계 대학원 혁신 펠로우쉽 연구과제\\\\내외국인_공대\\\\original_data\\\\std_info_grad_combined.csv']\n"
     ]
    }
   ],
   "source": [
    "total_combined_list = glob.glob(os.path.join(os.getcwd(), 'original_data', '*combined.csv'))\n",
    "print(total_combined_list)"
   ]
  },
  {
   "cell_type": "code",
   "execution_count": 239,
   "metadata": {},
   "outputs": [],
   "source": [
    "combined_grad = pd.read_csv(total_combined_list[1])\n",
    "combined_undergrad = pd.read_csv(total_combined_list[0])\n"
   ]
  },
  {
   "cell_type": "code",
   "execution_count": 240,
   "metadata": {},
   "outputs": [],
   "source": [
    "'''\n",
    "combined_grad.columns = \n",
    "['Unnamed: 0', 'Unnamed: 0.1', 'Unnamed: 0.1.1', '학번', '학생소속대학명',\n",
    "       '학생교육부계열', '성별', '입학과정', '학적', '학과', '전공', '전공교수', 'rec014_nation_cd',\n",
    "       '과정', '수료년도', '수료학기', 'rec014_birth_dt', '졸업년도', '졸업학기', 'gpa',\n",
    "       'rec014_school_term', '인건비총액', '서류점수', '면접점수', '학부출신', '대학원출신']\n",
    "'''\n",
    "combined_grad.columns = ['Unnamed: 0', 'Unnamed: 0.1', 'Unnamed: 0.1.1', '학번', '학생소속대학명',              #학습 위해서 column name(rec014~) 변경\n",
    "       '학생교육부계열', '성별', '입학과정', '학적', '학과', '전공', '전공교수', 'nation_cd',\n",
    "       '과정', '수료년도', '수료학기', 'rec014_birth_dt', '졸업년도', '졸업학기', 'gpa',\n",
    "       'school_term', '인건비총액', '서류점수', '면접점수', '학부출신', '대학원출신']\n",
    "\n",
    "grad_cat_features = ['학생소속대학명', '학생교육부계열', '성별', '입학과정', '학과', 'nation_cd', '학부출신']    #범주형 데이터\n",
    "grad_num_features = ['gpa', '서류점수', '면접점수', '인건비총액']       #연속형 데이터\n",
    "grad_term = ['school_term']\n",
    "\n",
    "for i in grad_cat_features:\n",
    "    combined_grad[i] = combined_grad[i].astype('category')"
   ]
  },
  {
   "cell_type": "markdown",
   "metadata": {},
   "source": [
    "### 졸업자 정보에 대하여 Stratified 5-Fold 학습\n"
   ]
  },
  {
   "cell_type": "code",
   "execution_count": 241,
   "metadata": {},
   "outputs": [
    {
     "name": "stderr",
     "output_type": "stream",
     "text": [
      "C:\\Users\\djkim\\anaconda3\\envs\\pytorch\\lib\\site-packages\\sklearn\\model_selection\\_split.py:676: UserWarning: The least populated class in y has only 1 members, which is less than n_splits=5.\n",
      "  warnings.warn(\n"
     ]
    },
    {
     "name": "stdout",
     "output_type": "stream",
     "text": [
      "Fold 0:\n",
      "               precision    recall  f1-score   support\n",
      "\n",
      "           6       0.79      0.94      0.86        32\n",
      "           7       0.33      0.20      0.25         5\n",
      "           8       0.00      0.00      0.00         3\n",
      "           9       0.00      0.00      0.00         1\n",
      "\n",
      "    accuracy                           0.76        41\n",
      "   macro avg       0.28      0.28      0.28        41\n",
      "weighted avg       0.66      0.76      0.70        41\n",
      "\n",
      "Fold 1:\n",
      "               precision    recall  f1-score   support\n",
      "\n",
      "           6       0.89      1.00      0.94        32\n",
      "           7       1.00      0.20      0.33         5\n",
      "           8       1.00      1.00      1.00         3\n",
      "\n",
      "    accuracy                           0.90        40\n",
      "   macro avg       0.96      0.73      0.76        40\n",
      "weighted avg       0.91      0.90      0.87        40\n",
      "\n",
      "Fold 2:\n",
      "               precision    recall  f1-score   support\n",
      "\n",
      "           6       0.88      0.91      0.89        32\n",
      "           7       0.25      0.20      0.22         5\n",
      "           8       1.00      1.00      1.00         3\n",
      "\n",
      "    accuracy                           0.82        40\n",
      "   macro avg       0.71      0.70      0.70        40\n",
      "weighted avg       0.81      0.82      0.82        40\n",
      "\n",
      "Fold 3:\n",
      "               precision    recall  f1-score   support\n",
      "\n",
      "           6       0.86      1.00      0.93        32\n",
      "           7       0.00      0.00      0.00         5\n",
      "           8       1.00      0.33      0.50         3\n",
      "\n",
      "    accuracy                           0.82        40\n",
      "   macro avg       0.62      0.44      0.48        40\n",
      "weighted avg       0.77      0.82      0.78        40\n",
      "\n",
      "Fold 4:\n",
      "               precision    recall  f1-score   support\n",
      "\n",
      "           6       0.84      0.84      0.84        31\n",
      "           7       0.00      0.00      0.00         6\n",
      "           8       0.60      1.00      0.75         3\n",
      "           9       0.00      0.00      0.00         0\n",
      "\n",
      "    accuracy                           0.73        40\n",
      "   macro avg       0.36      0.46      0.40        40\n",
      "weighted avg       0.70      0.72      0.71        40\n",
      "\n",
      "masters cross validation result :  [0.7560975609756098, 0.9, 0.825, 0.825, 0.725]\n"
     ]
    }
   ],
   "source": [
    "model = lightgbm.LGBMClassifier()\n",
    "skfold = StratifiedKFold(n_splits=5)\n",
    "\n",
    "cv_accuracy = []\n",
    "\n",
    "X_grad = combined_grad[grad_cat_features + grad_num_features]\n",
    "y_grad = combined_grad[grad_term]\n",
    "\n",
    "iter = 0\n",
    "for train_idx, test_idx in skfold.split(X_grad, y_grad):\n",
    "    # print(X_grad.iloc[train_idx])\n",
    "    # print(y_grad.iloc[test_idx])\n",
    "    model.fit(X_grad.iloc[train_idx], y_grad.iloc[train_idx].values.ravel())\n",
    "    pred = model.predict(X_grad.iloc[test_idx])\n",
    "    cv_accuracy.append(accuracy_score(y_grad.iloc[test_idx], pred))\n",
    "    print(f\"Fold {iter}:\\n\",classification_report(y_grad.iloc[test_idx], pred, zero_division=0))\n",
    "    iter += 1\n",
    "\n",
    "print(\"masters cross validation result : \", cv_accuracy)"
   ]
  },
  {
   "cell_type": "markdown",
   "metadata": {},
   "source": [
    "### 재학자에 대한 예측"
   ]
  },
  {
   "cell_type": "code",
   "execution_count": 243,
   "metadata": {},
   "outputs": [],
   "source": [
    "'''\n",
    "combined_undergrad.columns = \n",
    "['Unnamed: 0', 'Unnamed: 0.1', 'Unnamed: 0.1.1', '학번', '학생소속대학명',\n",
    "       '학생교육부계열', '성별', '입학과정', '학적', '학과', '전공', '전공교수', 'rec012_nation_cd',\n",
    "       '과정', '수료년도', '수료학기', 'rec012_birth_dt', 'gpa', 'rec012_school_term',\n",
    "       '인건비총액', '서류점수', '면접점수', '학부출신', '대학원출신']\n",
    "'''\n",
    "combined_undergrad.columns = ['Unnamed: 0', 'Unnamed: 0.1', 'Unnamed: 0.1.1', '학번', '학생소속대학명',\n",
    "       '학생교육부계열', '성별', '입학과정', '학적', '학과', '전공', '전공교수', 'nation_cd',\n",
    "       '과정', '수료년도', '수료학기', 'rec012_birth_dt', 'gpa', 'school_term',\n",
    "       '인건비총액', '서류점수', '면접점수', '학부출신', '대학원출신']\n",
    "\n",
    "undergrad_cat_features = ['학생소속대학명', '학생교육부계열', '성별', '입학과정', '학과', 'nation_cd', '학부출신']    #범주형 데이터\n",
    "undergrad_num_features = ['gpa', '서류점수', '면접점수', '인건비총액']       #연속형 데이터\n",
    "undergrad_term = ['school_term']\n",
    "\n",
    "for i in undergrad_cat_features:\n",
    "    combined_undergrad[i] = combined_undergrad[i].astype('category')\n",
    "\n",
    "X_undergrad = combined_undergrad[undergrad_cat_features + undergrad_num_features]\n",
    "\n",
    "y_undergrad = pd.DataFrame(model.predict(X_undergrad))"
   ]
  },
  {
   "cell_type": "code",
   "execution_count": 244,
   "metadata": {},
   "outputs": [],
   "source": [
    "combined_undergrad['predicted_school_term'] = y_undergrad\n",
    "combined_undergrad.to_csv(os.path.join(os.getcwd(), 'prediction_result', 'original_data', 'std_info_combined_predicted.csv'))"
   ]
  },
  {
   "cell_type": "markdown",
   "metadata": {},
   "source": [
    "------\n",
    "------\n",
    "## 1. 공학계열 석사 졸업 예측"
   ]
  },
  {
   "cell_type": "code",
   "execution_count": 245,
   "metadata": {},
   "outputs": [
    {
     "name": "stdout",
     "output_type": "stream",
     "text": [
      "['f:\\\\OneDrive - 고려대학교\\\\내 드라이브\\\\고려대학교\\\\대학원\\\\장학금\\\\BK21 4단계 대학원 혁신 펠로우쉽 연구과제\\\\내외국인_공대\\\\eng_data\\\\std_info_grad_ms_eng.csv', 'f:\\\\OneDrive - 고려대학교\\\\내 드라이브\\\\고려대학교\\\\대학원\\\\장학금\\\\BK21 4단계 대학원 혁신 펠로우쉽 연구과제\\\\내외국인_공대\\\\eng_data\\\\std_info_ms_eng.csv']\n"
     ]
    }
   ],
   "source": [
    "total_ms_list = glob.glob(os.path.join(os.getcwd(), 'eng_data', '*ms_eng.csv'))\n",
    "print(total_ms_list)"
   ]
  },
  {
   "cell_type": "code",
   "execution_count": 246,
   "metadata": {},
   "outputs": [],
   "source": [
    "ms_grad = pd.read_csv(total_ms_list[0])\n",
    "ms_undergrad = pd.read_csv(total_ms_list[1])\n"
   ]
  },
  {
   "cell_type": "code",
   "execution_count": 247,
   "metadata": {},
   "outputs": [],
   "source": [
    "'''\n",
    "ms_grad.columns = \n",
    "['Unnamed: 0', 'Unnamed: 0.1', 'Unnamed: 0.1.1', '학번', '학생소속대학명',\n",
    "'학생교육부계열', '성별', '입학과정', '학적', '학과', '전공', '전공교수', 'rec014_nation_cd',\n",
    "'과정', '수료년도', '수료학기', 'rec014_birth_dt', '졸업년도', '졸업학기', 'gpa',\n",
    "'rec014_school_term', '서류점수', '면접점수', '학부출신', '대학원출신', '인건비총액']\n",
    "'''\n",
    "ms_grad.columns = ['Unnamed: 0', 'Unnamed: 0.1', 'Unnamed: 0.1.1', '학번', '학생소속대학명',        #학습 위해서 column name(rec014~) 변경\n",
    "'학생교육부계열', '성별', '입학과정', '학적', '학과', '전공', '전공교수', 'nation_cd',\n",
    "'과정', '수료년도', '수료학기', 'rec014_birth_dt', '졸업년도', '졸업학기', 'gpa',\n",
    "'school_term', '서류점수', '면접점수', '학부출신', '대학원출신', '인건비총액']\n",
    "\n",
    "grad_cat_features = ['학생소속대학명', '학생교육부계열', '성별', '입학과정', '학과', 'nation_cd', '학부출신']    #범주형 데이터\n",
    "grad_num_features = ['gpa', '서류점수', '면접점수', '인건비총액']       #연속형 데이터\n",
    "grad_term = ['school_term']\n",
    "\n",
    "for i in grad_cat_features:\n",
    "    ms_grad[i] = ms_grad[i].astype('category')"
   ]
  },
  {
   "cell_type": "markdown",
   "metadata": {},
   "source": [
    "### 졸업자 정보에 대하여 Stratified 5-Fold 학습\n"
   ]
  },
  {
   "cell_type": "code",
   "execution_count": 248,
   "metadata": {},
   "outputs": [
    {
     "name": "stderr",
     "output_type": "stream",
     "text": [
      "C:\\Users\\djkim\\anaconda3\\envs\\pytorch\\lib\\site-packages\\sklearn\\model_selection\\_split.py:676: UserWarning: The least populated class in y has only 3 members, which is less than n_splits=5.\n",
      "  warnings.warn(\n"
     ]
    },
    {
     "name": "stdout",
     "output_type": "stream",
     "text": [
      "Fold 0:\n",
      "               precision    recall  f1-score   support\n",
      "\n",
      "           4       0.98      0.99      0.98       289\n",
      "           5       0.00      0.00      0.00         6\n",
      "           6       0.00      0.00      0.00         1\n",
      "           7       0.00      0.00      0.00         1\n",
      "\n",
      "    accuracy                           0.97       297\n",
      "   macro avg       0.24      0.25      0.25       297\n",
      "weighted avg       0.95      0.97      0.96       297\n",
      "\n",
      "Fold 1:\n",
      "               precision    recall  f1-score   support\n",
      "\n",
      "           4       0.98      1.00      0.99       289\n",
      "           5       0.00      0.00      0.00         6\n",
      "           6       1.00      1.00      1.00         1\n",
      "           7       0.00      0.00      0.00         1\n",
      "\n",
      "    accuracy                           0.98       297\n",
      "   macro avg       0.49      0.50      0.50       297\n",
      "weighted avg       0.95      0.98      0.96       297\n",
      "\n",
      "Fold 2:\n",
      "               precision    recall  f1-score   support\n",
      "\n",
      "           3       0.00      0.00      0.00         1\n",
      "           4       0.97      1.00      0.98       288\n",
      "           5       0.00      0.00      0.00         6\n",
      "           6       0.00      0.00      0.00         2\n",
      "\n",
      "    accuracy                           0.97       297\n",
      "   macro avg       0.24      0.25      0.25       297\n",
      "weighted avg       0.94      0.97      0.95       297\n",
      "\n",
      "Fold 3:\n",
      "               precision    recall  f1-score   support\n",
      "\n",
      "           3       0.00      0.00      0.00         1\n",
      "           4       0.97      1.00      0.98       288\n",
      "           5       0.00      0.00      0.00         6\n",
      "           6       0.00      0.00      0.00         2\n",
      "\n",
      "    accuracy                           0.97       297\n",
      "   macro avg       0.24      0.25      0.25       297\n",
      "weighted avg       0.94      0.97      0.95       297\n",
      "\n",
      "Fold 4:\n",
      "               precision    recall  f1-score   support\n",
      "\n",
      "           3       0.00      0.00      0.00         1\n",
      "           4       0.97      0.99      0.98       288\n",
      "           5       0.00      0.00      0.00         5\n",
      "           6       0.00      0.00      0.00         1\n",
      "           7       0.00      0.00      0.00         1\n",
      "\n",
      "    accuracy                           0.97       296\n",
      "   macro avg       0.19      0.20      0.20       296\n",
      "weighted avg       0.95      0.97      0.96       296\n",
      "\n",
      "masters cross validation result :  [0.9663299663299664, 0.9764309764309764, 0.9663299663299664, 0.9696969696969697, 0.9662162162162162]\n"
     ]
    }
   ],
   "source": [
    "model = lightgbm.LGBMClassifier()\n",
    "skfold = StratifiedKFold(n_splits=5)\n",
    "\n",
    "cv_accuracy = []\n",
    "\n",
    "X_grad = ms_grad[grad_cat_features + grad_num_features]\n",
    "y_grad = ms_grad[grad_term]\n",
    "\n",
    "iter = 0\n",
    "for train_idx, test_idx in skfold.split(X_grad, y_grad):\n",
    "    # print(X_grad.iloc[train_idx])\n",
    "    # print(y_grad.iloc[test_idx])\n",
    "    model.fit(X_grad.iloc[train_idx], y_grad.iloc[train_idx].values.ravel())\n",
    "    pred = model.predict(X_grad.iloc[test_idx])\n",
    "    cv_accuracy.append(accuracy_score(y_grad.iloc[test_idx], pred))\n",
    "    print(f\"Fold {iter}:\\n\",classification_report(y_grad.iloc[test_idx], pred, zero_division=0))\n",
    "    iter += 1\n",
    "\n",
    "print(\"masters cross validation result : \", cv_accuracy)"
   ]
  },
  {
   "cell_type": "markdown",
   "metadata": {},
   "source": [
    "### 재학자에 대한 예측"
   ]
  },
  {
   "cell_type": "code",
   "execution_count": 249,
   "metadata": {},
   "outputs": [],
   "source": [
    "'''\n",
    "ms_undergrad.columns = \n",
    "['Unnamed: 0', 'Unnamed: 0.1', 'Unnamed: 0.1.1', '학번', '학생소속대학명',\n",
    "       '학생교육부계열', '성별', '입학과정', '학적', '학과', '전공', '전공교수', 'rec012_nation_cd',\n",
    "       '과정', '수료년도', '수료학기', 'rec012_birth_dt', 'gpa', 'rec012_school_term',\n",
    "       '인건비총액', '서류점수', '면접점수', '학부출신', '대학원출신']\n",
    "'''\n",
    "ms_undergrad.columns = ['Unnamed: 0', 'Unnamed: 0.1', 'Unnamed: 0.1.1', '학번', '학생소속대학명',\n",
    "       '학생교육부계열', '성별', '입학과정', '학적', '학과', '전공', '전공교수', 'nation_cd',\n",
    "       '과정', '수료년도', '수료학기', 'rec012_birth_dt', 'gpa', 'school_term',\n",
    "       '인건비총액', '서류점수', '면접점수', '학부출신', '대학원출신']\n",
    "\n",
    "undergrad_cat_features = ['학생소속대학명', '학생교육부계열', '성별', '입학과정', '학과', 'nation_cd', '학부출신']    #범주형 데이터\n",
    "undergrad_num_features = ['gpa', '서류점수', '면접점수', '인건비총액']       #연속형 데이터\n",
    "undergrad_term = ['school_term']\n",
    "\n",
    "for i in undergrad_cat_features:\n",
    "    ms_undergrad[i] = ms_undergrad[i].astype('category')\n",
    "\n",
    "X_undergrad = ms_undergrad[undergrad_cat_features + undergrad_num_features]\n",
    "\n",
    "y_undergrad = pd.DataFrame(model.predict(X_undergrad))"
   ]
  },
  {
   "cell_type": "code",
   "execution_count": 250,
   "metadata": {},
   "outputs": [],
   "source": [
    "ms_undergrad['predicted_school_term'] = y_undergrad\n",
    "ms_undergrad.to_csv(os.path.join(os.getcwd(), 'prediction_result', 'eng_data', 'std_info_ms_eng_predicted.csv'))"
   ]
  },
  {
   "cell_type": "markdown",
   "metadata": {},
   "source": [
    "------\n",
    "## 2. 공학계열 박사 졸업 예측"
   ]
  },
  {
   "cell_type": "code",
   "execution_count": 251,
   "metadata": {},
   "outputs": [
    {
     "name": "stdout",
     "output_type": "stream",
     "text": [
      "['f:\\\\OneDrive - 고려대학교\\\\내 드라이브\\\\고려대학교\\\\대학원\\\\장학금\\\\BK21 4단계 대학원 혁신 펠로우쉽 연구과제\\\\내외국인_공대\\\\eng_data\\\\std_info_grad_phd_eng.csv', 'f:\\\\OneDrive - 고려대학교\\\\내 드라이브\\\\고려대학교\\\\대학원\\\\장학금\\\\BK21 4단계 대학원 혁신 펠로우쉽 연구과제\\\\내외국인_공대\\\\eng_data\\\\std_info_phd_eng.csv']\n"
     ]
    }
   ],
   "source": [
    "total_phd_list = glob.glob(os.path.join(os.getcwd(), 'eng_data', '*phd_eng.csv'))\n",
    "print(total_phd_list)"
   ]
  },
  {
   "cell_type": "code",
   "execution_count": 252,
   "metadata": {},
   "outputs": [],
   "source": [
    "phd_grad = pd.read_csv(total_phd_list[0])\n",
    "phd_undergrad = pd.read_csv(total_phd_list[1])\n"
   ]
  },
  {
   "cell_type": "code",
   "execution_count": 253,
   "metadata": {},
   "outputs": [],
   "source": [
    "'''\n",
    "phd_grad.columns = \n",
    "['Unnamed: 0', 'Unnamed: 0.1', 'Unnamed: 0.1.1', '학번', '학생소속대학명',\n",
    "'학생교육부계열', '성별', '입학과정', '학적', '학과', '전공', '전공교수', 'rec014_nation_cd',\n",
    "'과정', '수료년도', '수료학기', 'rec014_birth_dt', '졸업년도', '졸업학기', 'gpa',\n",
    "'rec014_school_term', '서류점수', '면접점수', '학부출신', '대학원출신', '인건비총액']\n",
    "'''\n",
    "phd_grad.columns = ['Unnamed: 0', 'Unnamed: 0.1', 'Unnamed: 0.1.1', '학번', '학생소속대학명',        #학습 위해서 column name(rec014~) 변경\n",
    "'학생교육부계열', '성별', '입학과정', '학적', '학과', '전공', '전공교수', 'nation_cd',\n",
    "'과정', '수료년도', '수료학기', 'rec014_birth_dt', '졸업년도', '졸업학기', 'gpa',\n",
    "'school_term', '서류점수', '면접점수', '학부출신', '대학원출신', '인건비총액']\n",
    "\n",
    "grad_cat_features = ['학생소속대학명', '학생교육부계열', '성별', '입학과정', '학과', 'nation_cd', '학부출신']    #범주형 데이터\n",
    "grad_num_features = ['gpa', '서류점수', '면접점수', '인건비총액']       #연속형 데이터\n",
    "grad_term = ['school_term']\n",
    "\n",
    "for i in grad_cat_features:\n",
    "    phd_grad[i] = phd_grad[i].astype('category')"
   ]
  },
  {
   "cell_type": "markdown",
   "metadata": {},
   "source": [
    "### 졸업자 정보에 대하여 Stratified 5-Fold 학습\n"
   ]
  },
  {
   "cell_type": "code",
   "execution_count": 254,
   "metadata": {},
   "outputs": [
    {
     "name": "stdout",
     "output_type": "stream",
     "text": [
      "Fold 0:\n",
      "               precision    recall  f1-score   support\n",
      "\n",
      "           4       0.90      1.00      0.95        18\n",
      "           5       0.00      0.00      0.00         2\n",
      "\n",
      "    accuracy                           0.90        20\n",
      "   macro avg       0.45      0.50      0.47        20\n",
      "weighted avg       0.81      0.90      0.85        20\n",
      "\n",
      "Fold 1:\n",
      "               precision    recall  f1-score   support\n",
      "\n",
      "           4       0.90      1.00      0.95        18\n",
      "           5       0.00      0.00      0.00         2\n",
      "\n",
      "    accuracy                           0.90        20\n",
      "   macro avg       0.45      0.50      0.47        20\n",
      "weighted avg       0.81      0.90      0.85        20\n",
      "\n",
      "Fold 2:\n",
      "               precision    recall  f1-score   support\n",
      "\n",
      "           4       0.95      1.00      0.97        18\n",
      "           5       0.00      0.00      0.00         1\n",
      "\n",
      "    accuracy                           0.95        19\n",
      "   macro avg       0.47      0.50      0.49        19\n",
      "weighted avg       0.90      0.95      0.92        19\n",
      "\n",
      "Fold 3:\n",
      "               precision    recall  f1-score   support\n",
      "\n",
      "           4       0.94      0.89      0.91        18\n",
      "           5       0.00      0.00      0.00         1\n",
      "\n",
      "    accuracy                           0.84        19\n",
      "   macro avg       0.47      0.44      0.46        19\n",
      "weighted avg       0.89      0.84      0.87        19\n",
      "\n",
      "Fold 4:\n",
      "               precision    recall  f1-score   support\n",
      "\n",
      "           4       0.89      1.00      0.94        17\n",
      "           5       0.00      0.00      0.00         2\n",
      "\n",
      "    accuracy                           0.89        19\n",
      "   macro avg       0.45      0.50      0.47        19\n",
      "weighted avg       0.80      0.89      0.85        19\n",
      "\n",
      "masters cross validation result :  [0.9, 0.9, 0.9473684210526315, 0.8421052631578947, 0.8947368421052632]\n"
     ]
    }
   ],
   "source": [
    "model = lightgbm.LGBMClassifier()\n",
    "skfold = StratifiedKFold(n_splits=5)\n",
    "\n",
    "cv_accuracy = []\n",
    "\n",
    "X_grad = phd_grad[grad_cat_features + grad_num_features]\n",
    "y_grad = phd_grad[grad_term]\n",
    "\n",
    "iter = 0\n",
    "for train_idx, test_idx in skfold.split(X_grad, y_grad):\n",
    "    # print(X_grad.iloc[train_idx])\n",
    "    # print(y_grad.iloc[test_idx])\n",
    "    model.fit(X_grad.iloc[train_idx], y_grad.iloc[train_idx].values.ravel())\n",
    "    pred = model.predict(X_grad.iloc[test_idx])\n",
    "    cv_accuracy.append(accuracy_score(y_grad.iloc[test_idx], pred))\n",
    "    print(f\"Fold {iter}:\\n\",classification_report(y_grad.iloc[test_idx], pred, zero_division=0))\n",
    "    iter += 1\n",
    "\n",
    "print(\"masters cross validation result : \", cv_accuracy)"
   ]
  },
  {
   "cell_type": "markdown",
   "metadata": {},
   "source": [
    "### 재학자에 대한 예측"
   ]
  },
  {
   "cell_type": "code",
   "execution_count": 255,
   "metadata": {},
   "outputs": [],
   "source": [
    "'''\n",
    "phd_undergrad.columns = \n",
    "['Unnamed: 0', 'Unnamed: 0.1', 'Unnamed: 0.1.1', '학번', '학생소속대학명',\n",
    "       '학생교육부계열', '성별', '입학과정', '학적', '학과', '전공', '전공교수', 'rec012_nation_cd',\n",
    "       '과정', '수료년도', '수료학기', 'rec012_birth_dt', 'gpa', 'rec012_school_term',\n",
    "       '서류점수', '면접점수', '학부출신', '대학원출신', '인건비총액']\n",
    "'''\n",
    "phd_undergrad.columns = ['Unnamed: 0', 'Unnamed: 0.1', 'Unnamed: 0.1.1', '학번', '학생소속대학명',\n",
    "       '학생교육부계열', '성별', '입학과정', '학적', '학과', '전공', '전공교수', 'nation_cd',\n",
    "       '과정', '수료년도', '수료학기', 'rec012_birth_dt', 'gpa', 'school_term',\n",
    "       '서류점수', '면접점수', '학부출신', '대학원출신', '인건비총액']\n",
    "\n",
    "undergrad_cat_features = ['학생소속대학명', '학생교육부계열', '성별', '입학과정', '학과', 'nation_cd', '학부출신']    #범주형 데이터\n",
    "undergrad_num_features = ['gpa', '서류점수', '면접점수', '인건비총액']       #연속형 데이터\n",
    "undergrad_term = ['school_term']\n",
    "\n",
    "for i in undergrad_cat_features:\n",
    "    phd_undergrad[i] = phd_undergrad[i].astype('category')\n",
    "\n",
    "X_undergrad = phd_undergrad[undergrad_cat_features + undergrad_num_features]\n",
    "\n",
    "y_undergrad = pd.DataFrame(model.predict(X_undergrad))"
   ]
  },
  {
   "cell_type": "code",
   "execution_count": 256,
   "metadata": {},
   "outputs": [],
   "source": [
    "phd_undergrad['predicted_school_term'] = y_undergrad\n",
    "phd_undergrad.to_csv(os.path.join(os.getcwd(), 'prediction_result', 'eng_data', 'std_info_phd_eng_predicted.csv'))"
   ]
  },
  {
   "cell_type": "markdown",
   "metadata": {},
   "source": [
    "------\n",
    "## 3. 공학계열 석박통합 졸업 예측"
   ]
  },
  {
   "cell_type": "code",
   "execution_count": 257,
   "metadata": {},
   "outputs": [
    {
     "name": "stdout",
     "output_type": "stream",
     "text": [
      "['f:\\\\OneDrive - 고려대학교\\\\내 드라이브\\\\고려대학교\\\\대학원\\\\장학금\\\\BK21 4단계 대학원 혁신 펠로우쉽 연구과제\\\\내외국인_공대\\\\eng_data\\\\std_info_combined_eng.csv', 'f:\\\\OneDrive - 고려대학교\\\\내 드라이브\\\\고려대학교\\\\대학원\\\\장학금\\\\BK21 4단계 대학원 혁신 펠로우쉽 연구과제\\\\내외국인_공대\\\\eng_data\\\\std_info_grad_combined_eng.csv']\n"
     ]
    }
   ],
   "source": [
    "total_combined_list = glob.glob(os.path.join(os.getcwd(), 'eng_data', '*combined_eng.csv'))\n",
    "print(total_combined_list)"
   ]
  },
  {
   "cell_type": "code",
   "execution_count": 258,
   "metadata": {},
   "outputs": [],
   "source": [
    "combined_grad = pd.read_csv(total_combined_list[1])\n",
    "combined_undergrad = pd.read_csv(total_combined_list[0])\n"
   ]
  },
  {
   "cell_type": "code",
   "execution_count": 259,
   "metadata": {},
   "outputs": [],
   "source": [
    "'''\n",
    "combined_grad.columns = \n",
    "['Unnamed: 0', 'Unnamed: 0.1', 'Unnamed: 0.1.1', '학번', '학생소속대학명',\n",
    "       '학생교육부계열', '성별', '입학과정', '학적', '학과', '전공', '전공교수', 'rec014_nation_cd',\n",
    "       '과정', '수료년도', '수료학기', 'rec014_birth_dt', '졸업년도', '졸업학기', 'gpa',\n",
    "       'rec014_school_term', '인건비총액', '서류점수', '면접점수', '학부출신', '대학원출신']\n",
    "'''\n",
    "combined_grad.columns = ['Unnamed: 0', 'Unnamed: 0.1', 'Unnamed: 0.1.1', '학번', '학생소속대학명',              #학습 위해서 column name(rec014~) 변경\n",
    "       '학생교육부계열', '성별', '입학과정', '학적', '학과', '전공', '전공교수', 'nation_cd',\n",
    "       '과정', '수료년도', '수료학기', 'rec014_birth_dt', '졸업년도', '졸업학기', 'gpa',\n",
    "       'school_term', '인건비총액', '서류점수', '면접점수', '학부출신', '대학원출신']\n",
    "\n",
    "grad_cat_features = ['학생소속대학명', '학생교육부계열', '성별', '입학과정', '학과', 'nation_cd', '학부출신']    #범주형 데이터\n",
    "grad_num_features = ['gpa', '서류점수', '면접점수', '인건비총액']       #연속형 데이터\n",
    "grad_term = ['school_term']\n",
    "\n",
    "for i in grad_cat_features:\n",
    "    combined_grad[i] = combined_grad[i].astype('category')"
   ]
  },
  {
   "cell_type": "markdown",
   "metadata": {},
   "source": [
    "### 졸업자 정보에 대하여 Stratified 5-Fold 학습\n"
   ]
  },
  {
   "cell_type": "code",
   "execution_count": 260,
   "metadata": {},
   "outputs": [
    {
     "name": "stderr",
     "output_type": "stream",
     "text": [
      "C:\\Users\\djkim\\anaconda3\\envs\\pytorch\\lib\\site-packages\\sklearn\\model_selection\\_split.py:676: UserWarning: The least populated class in y has only 1 members, which is less than n_splits=5.\n",
      "  warnings.warn(\n"
     ]
    },
    {
     "name": "stdout",
     "output_type": "stream",
     "text": [
      "Fold 0:\n",
      "               precision    recall  f1-score   support\n",
      "\n",
      "           6       0.89      1.00      0.94        16\n",
      "           7       0.00      0.00      0.00         1\n",
      "           8       0.00      0.00      0.00         1\n",
      "\n",
      "    accuracy                           0.89        18\n",
      "   macro avg       0.30      0.33      0.31        18\n",
      "weighted avg       0.79      0.89      0.84        18\n",
      "\n",
      "Fold 1:\n",
      "               precision    recall  f1-score   support\n",
      "\n",
      "           6       0.89      1.00      0.94        16\n",
      "           7       0.00      0.00      0.00         1\n",
      "           8       0.00      0.00      0.00         1\n",
      "\n",
      "    accuracy                           0.89        18\n",
      "   macro avg       0.30      0.33      0.31        18\n",
      "weighted avg       0.79      0.89      0.84        18\n",
      "\n",
      "Fold 2:\n",
      "               precision    recall  f1-score   support\n",
      "\n",
      "           6       0.94      1.00      0.97        16\n",
      "           7       0.00      0.00      0.00         1\n",
      "           8       1.00      1.00      1.00         1\n",
      "\n",
      "    accuracy                           0.94        18\n",
      "   macro avg       0.65      0.67      0.66        18\n",
      "weighted avg       0.89      0.94      0.92        18\n",
      "\n",
      "Fold 3:\n",
      "               precision    recall  f1-score   support\n",
      "\n",
      "           6       0.88      1.00      0.94        15\n",
      "           7       0.00      0.00      0.00         2\n",
      "           8       1.00      1.00      1.00         1\n",
      "\n",
      "    accuracy                           0.89        18\n",
      "   macro avg       0.63      0.67      0.65        18\n",
      "weighted avg       0.79      0.89      0.84        18\n",
      "\n",
      "Fold 4:\n",
      "               precision    recall  f1-score   support\n",
      "\n",
      "           6       0.82      0.93      0.87        15\n",
      "           7       0.00      0.00      0.00         2\n",
      "           8       0.00      0.00      0.00         0\n",
      "           9       0.00      0.00      0.00         1\n",
      "\n",
      "    accuracy                           0.78        18\n",
      "   macro avg       0.21      0.23      0.22        18\n",
      "weighted avg       0.69      0.78      0.73        18\n",
      "\n",
      "masters cross validation result :  [0.8888888888888888, 0.8888888888888888, 0.9444444444444444, 0.8888888888888888, 0.7777777777777778]\n"
     ]
    }
   ],
   "source": [
    "model = lightgbm.LGBMClassifier()\n",
    "skfold = StratifiedKFold(n_splits=5)\n",
    "\n",
    "cv_accuracy = []\n",
    "\n",
    "X_grad = combined_grad[grad_cat_features + grad_num_features]\n",
    "y_grad = combined_grad[grad_term]\n",
    "\n",
    "iter = 0\n",
    "for train_idx, test_idx in skfold.split(X_grad, y_grad):\n",
    "    # print(X_grad.iloc[train_idx])\n",
    "    # print(y_grad.iloc[test_idx])\n",
    "    model.fit(X_grad.iloc[train_idx], y_grad.iloc[train_idx].values.ravel())\n",
    "    pred = model.predict(X_grad.iloc[test_idx])\n",
    "    cv_accuracy.append(accuracy_score(y_grad.iloc[test_idx], pred))\n",
    "    print(f\"Fold {iter}:\\n\",classification_report(y_grad.iloc[test_idx], pred, zero_division=0))\n",
    "    iter += 1\n",
    "\n",
    "print(\"masters cross validation result : \", cv_accuracy)"
   ]
  },
  {
   "cell_type": "markdown",
   "metadata": {},
   "source": [
    "### 재학자에 대한 예측"
   ]
  },
  {
   "cell_type": "code",
   "execution_count": 261,
   "metadata": {},
   "outputs": [],
   "source": [
    "'''\n",
    "combined_undergrad.columns = \n",
    "['Unnamed: 0', 'Unnamed: 0.1', 'Unnamed: 0.1.1', '학번', '학생소속대학명',\n",
    "       '학생교육부계열', '성별', '입학과정', '학적', '학과', '전공', '전공교수', 'rec012_nation_cd',\n",
    "       '과정', '수료년도', '수료학기', 'rec012_birth_dt', 'gpa', 'rec012_school_term',\n",
    "       '인건비총액', '서류점수', '면접점수', '학부출신', '대학원출신']\n",
    "'''\n",
    "combined_undergrad.columns = ['Unnamed: 0', 'Unnamed: 0.1', 'Unnamed: 0.1.1', '학번', '학생소속대학명',\n",
    "       '학생교육부계열', '성별', '입학과정', '학적', '학과', '전공', '전공교수', 'nation_cd',\n",
    "       '과정', '수료년도', '수료학기', 'rec012_birth_dt', 'gpa', 'school_term',\n",
    "       '인건비총액', '서류점수', '면접점수', '학부출신', '대학원출신']\n",
    "\n",
    "undergrad_cat_features = ['학생소속대학명', '학생교육부계열', '성별', '입학과정', '학과', 'nation_cd', '학부출신']    #범주형 데이터\n",
    "undergrad_num_features = ['gpa', '서류점수', '면접점수', '인건비총액']       #연속형 데이터\n",
    "undergrad_term = ['school_term']\n",
    "\n",
    "for i in undergrad_cat_features:\n",
    "    combined_undergrad[i] = combined_undergrad[i].astype('category')\n",
    "\n",
    "X_undergrad = combined_undergrad[undergrad_cat_features + undergrad_num_features]\n",
    "\n",
    "y_undergrad = pd.DataFrame(model.predict(X_undergrad))"
   ]
  },
  {
   "cell_type": "code",
   "execution_count": 262,
   "metadata": {},
   "outputs": [],
   "source": [
    "combined_undergrad['predicted_school_term'] = y_undergrad\n",
    "combined_undergrad.to_csv(os.path.join(os.getcwd(), 'prediction_result', 'eng_data', 'std_info_combined_eng_predicted.csv'))"
   ]
  },
  {
   "cell_type": "code",
   "execution_count": null,
   "metadata": {},
   "outputs": [],
   "source": []
  }
 ],
 "metadata": {
  "interpreter": {
   "hash": "3b877b1f7a01ee3f13579b88b14e81a6c392478055cee1e0634b92db773b747d"
  },
  "kernelspec": {
   "display_name": "Python 3.7.9 64-bit ('pytorch': conda)",
   "language": "python",
   "name": "python3"
  },
  "language_info": {
   "codemirror_mode": {
    "name": "ipython",
    "version": 3
   },
   "file_extension": ".py",
   "mimetype": "text/x-python",
   "name": "python",
   "nbconvert_exporter": "python",
   "pygments_lexer": "ipython3",
   "version": "3.8.11"
  },
  "orig_nbformat": 4
 },
 "nbformat": 4,
 "nbformat_minor": 2
}
