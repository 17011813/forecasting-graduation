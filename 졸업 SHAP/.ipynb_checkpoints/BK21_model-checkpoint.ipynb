{
 "cells": [
  {
   "cell_type": "markdown",
   "metadata": {},
   "source": [
    "import lightgbm\n",
    "import glob, os\n",
    "import pandas as pd\n",
    "from sklearn.model_selection import StratifiedKFold, cross_val_score\n",
    "from sklearn.metrics import classification_report, confusion_matrix, accuracy_score"
   ]
  },
  {
   "cell_type": "markdown",
   "metadata": {},
   "source": [
    "def years(data):\n",
    "    for i in range(len(data)):\n",
    "        if data.loc[i,\"수료년도\"] != None:\n",
    "            \n",
    "            jolupyear = data.loc[i,\"졸업년도\"]\n",
    "            if data.loc[i,\"졸업학기\"]==\"2R\":\n",
    "                jolupyear += 0.5\n",
    "            sooryoyear = data.loc[i,\"수료년도\"]\n",
    "            if data.loc[i,\"수료학기\"]==\"2R\":\n",
    "                sooryoyear += 0.5\n",
    "            term = jolupyear - sooryoyear\n",
    "            term *= 2\n",
    "            data.loc[i,\"rec014_school_term\"] = term+data.loc[i,\"rec014_school_term\"]\n",
    "        else:\n",
    "            pass\n",
    "        \n",
    "    return data"
   ]
  },
  {
   "cell_type": "markdown",
   "metadata": {},
   "source": [
    "total_eng_list = glob.glob(os.path.join(os.getcwd(),'original_data',\"*grad*.csv\" ))\n",
    "print(total_eng_list)"
   ]
  },
  {
   "cell_type": "markdown",
   "metadata": {},
   "source": [
    "for i in total_eng_list:\n",
    "    data = pd.read_csv(i)\n",
    "    data = years(data)\n",
    "    data.to_csv(i,encoding=\"utf-8-sig\", index=False)"
   ]
  },
  {
   "cell_type": "markdown",
   "metadata": {},
   "source": [
    "------\n",
    "## 1. 전체 석사 졸업 예측"
   ]
  },
  {
   "cell_type": "code",
   "execution_count": 3,
   "metadata": {},
   "outputs": [
    {
     "name": "stdout",
     "output_type": "stream",
     "text": [
      "[]\n"
     ]
    }
   ],
   "source": [
    "import glob\n",
    "import os\n",
    "total_ms_list = glob.glob(os.path.join(os.getcwd(), 'original_data', '*ms.csv'))\n",
    "print(total_ms_list)"
   ]
  },
  {
   "cell_type": "code",
   "execution_count": 184,
   "metadata": {},
   "outputs": [],
   "source": [
    "ms_grad = pd.read_csv(total_ms_list[0])\n",
    "ms_undergrad = pd.read_csv(total_ms_list[1])\n"
   ]
  },
  {
   "cell_type": "code",
   "execution_count": 185,
   "metadata": {},
   "outputs": [
    {
     "data": {
      "text/html": [
       "<div>\n",
       "<style scoped>\n",
       "    .dataframe tbody tr th:only-of-type {\n",
       "        vertical-align: middle;\n",
       "    }\n",
       "\n",
       "    .dataframe tbody tr th {\n",
       "        vertical-align: top;\n",
       "    }\n",
       "\n",
       "    .dataframe thead th {\n",
       "        text-align: right;\n",
       "    }\n",
       "</style>\n",
       "<table border=\"1\" class=\"dataframe\">\n",
       "  <thead>\n",
       "    <tr style=\"text-align: right;\">\n",
       "      <th></th>\n",
       "      <th>수료년도</th>\n",
       "      <th>수료학기</th>\n",
       "      <th>졸업년도</th>\n",
       "      <th>졸업학기</th>\n",
       "      <th>rec014_school_term</th>\n",
       "    </tr>\n",
       "  </thead>\n",
       "  <tbody>\n",
       "    <tr>\n",
       "      <th>0</th>\n",
       "      <td>2018.0</td>\n",
       "      <td>2R</td>\n",
       "      <td>2020</td>\n",
       "      <td>1R</td>\n",
       "      <td>7.0</td>\n",
       "    </tr>\n",
       "    <tr>\n",
       "      <th>1</th>\n",
       "      <td>2020.0</td>\n",
       "      <td>1R</td>\n",
       "      <td>2020</td>\n",
       "      <td>1R</td>\n",
       "      <td>4.0</td>\n",
       "    </tr>\n",
       "    <tr>\n",
       "      <th>2</th>\n",
       "      <td>2018.0</td>\n",
       "      <td>2R</td>\n",
       "      <td>2020</td>\n",
       "      <td>1R</td>\n",
       "      <td>7.0</td>\n",
       "    </tr>\n",
       "    <tr>\n",
       "      <th>3</th>\n",
       "      <td>2018.0</td>\n",
       "      <td>2R</td>\n",
       "      <td>2020</td>\n",
       "      <td>1R</td>\n",
       "      <td>7.0</td>\n",
       "    </tr>\n",
       "    <tr>\n",
       "      <th>4</th>\n",
       "      <td>2020.0</td>\n",
       "      <td>1R</td>\n",
       "      <td>2020</td>\n",
       "      <td>1R</td>\n",
       "      <td>4.0</td>\n",
       "    </tr>\n",
       "    <tr>\n",
       "      <th>...</th>\n",
       "      <td>...</td>\n",
       "      <td>...</td>\n",
       "      <td>...</td>\n",
       "      <td>...</td>\n",
       "      <td>...</td>\n",
       "    </tr>\n",
       "    <tr>\n",
       "      <th>4796</th>\n",
       "      <td>2021.0</td>\n",
       "      <td>2R</td>\n",
       "      <td>2021</td>\n",
       "      <td>2R</td>\n",
       "      <td>5.0</td>\n",
       "    </tr>\n",
       "    <tr>\n",
       "      <th>4797</th>\n",
       "      <td>2021.0</td>\n",
       "      <td>1R</td>\n",
       "      <td>2021</td>\n",
       "      <td>2R</td>\n",
       "      <td>5.0</td>\n",
       "    </tr>\n",
       "    <tr>\n",
       "      <th>4798</th>\n",
       "      <td>2021.0</td>\n",
       "      <td>1R</td>\n",
       "      <td>2021</td>\n",
       "      <td>2R</td>\n",
       "      <td>5.0</td>\n",
       "    </tr>\n",
       "    <tr>\n",
       "      <th>4799</th>\n",
       "      <td>2021.0</td>\n",
       "      <td>1R</td>\n",
       "      <td>2021</td>\n",
       "      <td>2R</td>\n",
       "      <td>5.0</td>\n",
       "    </tr>\n",
       "    <tr>\n",
       "      <th>4800</th>\n",
       "      <td>2021.0</td>\n",
       "      <td>1R</td>\n",
       "      <td>2021</td>\n",
       "      <td>2R</td>\n",
       "      <td>5.0</td>\n",
       "    </tr>\n",
       "  </tbody>\n",
       "</table>\n",
       "<p>4801 rows × 5 columns</p>\n",
       "</div>"
      ],
      "text/plain": [
       "        수료년도 수료학기  졸업년도 졸업학기  rec014_school_term\n",
       "0     2018.0   2R  2020   1R                 7.0\n",
       "1     2020.0   1R  2020   1R                 4.0\n",
       "2     2018.0   2R  2020   1R                 7.0\n",
       "3     2018.0   2R  2020   1R                 7.0\n",
       "4     2020.0   1R  2020   1R                 4.0\n",
       "...      ...  ...   ...  ...                 ...\n",
       "4796  2021.0   2R  2021   2R                 5.0\n",
       "4797  2021.0   1R  2021   2R                 5.0\n",
       "4798  2021.0   1R  2021   2R                 5.0\n",
       "4799  2021.0   1R  2021   2R                 5.0\n",
       "4800  2021.0   1R  2021   2R                 5.0\n",
       "\n",
       "[4801 rows x 5 columns]"
      ]
     },
     "execution_count": 185,
     "metadata": {},
     "output_type": "execute_result"
    }
   ],
   "source": [
    "ms_grad[['수료년도', '수료학기', '졸업년도', '졸업학기', 'rec014_school_term']]"
   ]
  },
  {
   "cell_type": "code",
   "execution_count": 186,
   "metadata": {},
   "outputs": [
    {
     "data": {
      "text/plain": [
       "Index(['Unnamed: 0', 'Unnamed: 0.1', 'Unnamed: 0.1.1', '학번', '학생소속대학명',\n",
       "       '학생교육부계열', '성별', '입학과정', '학적', '학과', '전공', '전공교수', 'rec014_nation_cd',\n",
       "       '과정', '수료년도', '수료학기', 'rec014_birth_dt', '졸업년도', '졸업학기', 'gpa',\n",
       "       'rec014_school_term', '서류점수', '면접점수', '학부출신', '대학원출신', '인건비총액'],\n",
       "      dtype='object')"
      ]
     },
     "execution_count": 186,
     "metadata": {},
     "output_type": "execute_result"
    }
   ],
   "source": [
    "ms_grad.columns"
   ]
  },
  {
   "cell_type": "code",
   "execution_count": 187,
   "metadata": {},
   "outputs": [],
   "source": [
    "'''\n",
    "ms_grad.columns = \n",
    "['Unnamed: 0', 'Unnamed: 0.1', 'Unnamed: 0.1.1', '학번', '학생소속대학명',\n",
    "'학생교육부계열', '성별', '입학과정', '학적', '학과', '전공', '전공교수', 'rec014_nation_cd',\n",
    "'과정', '수료년도', '수료학기', 'rec014_birth_dt', '졸업년도', '졸업학기', 'gpa',\n",
    "'rec014_school_term', '서류점수', '면접점수', '학부출신', '대학원출신', '인건비총액']\n",
    "'''\n",
    "ms_grad.columns = ['Unnamed: 0', 'Unnamed: 0.1', 'Unnamed: 0.1.1', '학번', '학생소속대학명',        #학습 위해서 column name(rec014~) 변경\n",
    "'학생교육부계열', '성별', '입학과정', '학적', '학과', '전공', '전공교수', 'nation_cd',\n",
    "'과정', '수료년도', '수료학기', 'rec014_birth_dt', '졸업년도', '졸업학기', 'gpa',\n",
    "'school_term', '서류점수', '면접점수', '학부출신', '대학원출신', '인건비총액']\n",
    "\n",
    "grad_cat_features = ['학생소속대학명', '학생교육부계열', '성별', '입학과정', '학과', 'nation_cd', '학부출신']    #범주형 데이터\n",
    "grad_num_features = ['gpa', '서류점수', '면접점수', '인건비총액']       #연속형 데이터\n",
    "grad_term = ['school_term']\n",
    "\n",
    "for i in grad_cat_features:\n",
    "    ms_grad[i] = ms_grad[i].astype('category')"
   ]
  },
  {
   "cell_type": "markdown",
   "metadata": {},
   "source": [
    "### 졸업자 정보에 대하여 Stratified 5-Fold 학습\n"
   ]
  },
  {
   "cell_type": "code",
   "execution_count": 189,
   "metadata": {},
   "outputs": [
    {
     "ename": "ValueError",
     "evalue": "Input contains NaN, infinity or a value too large for dtype('float64').",
     "output_type": "error",
     "traceback": [
      "\u001b[1;31m---------------------------------------------------------------------------\u001b[0m",
      "\u001b[1;31mValueError\u001b[0m                                Traceback (most recent call last)",
      "\u001b[1;32m<ipython-input-189-4bcf51ceef2d>\u001b[0m in \u001b[0;36m<module>\u001b[1;34m\u001b[0m\n\u001b[0;32m      8\u001b[0m \u001b[1;33m\u001b[0m\u001b[0m\n\u001b[0;32m      9\u001b[0m \u001b[0miter\u001b[0m \u001b[1;33m=\u001b[0m \u001b[1;36m0\u001b[0m\u001b[1;33m\u001b[0m\u001b[1;33m\u001b[0m\u001b[0m\n\u001b[1;32m---> 10\u001b[1;33m \u001b[1;32mfor\u001b[0m \u001b[0mtrain_idx\u001b[0m\u001b[1;33m,\u001b[0m \u001b[0mtest_idx\u001b[0m \u001b[1;32min\u001b[0m \u001b[0mskfold\u001b[0m\u001b[1;33m.\u001b[0m\u001b[0msplit\u001b[0m\u001b[1;33m(\u001b[0m\u001b[0mX_grad\u001b[0m\u001b[1;33m,\u001b[0m \u001b[0my_grad\u001b[0m\u001b[1;33m)\u001b[0m\u001b[1;33m:\u001b[0m\u001b[1;33m\u001b[0m\u001b[1;33m\u001b[0m\u001b[0m\n\u001b[0m\u001b[0;32m     11\u001b[0m     \u001b[1;31m# print(X_grad.iloc[train_idx])\u001b[0m\u001b[1;33m\u001b[0m\u001b[1;33m\u001b[0m\u001b[1;33m\u001b[0m\u001b[0m\n\u001b[0;32m     12\u001b[0m     \u001b[1;31m# print(y_grad.iloc[test_idx])\u001b[0m\u001b[1;33m\u001b[0m\u001b[1;33m\u001b[0m\u001b[1;33m\u001b[0m\u001b[0m\n",
      "\u001b[1;32m~\\anaconda3\\envs\\wonyong\\lib\\site-packages\\sklearn\\model_selection\\_split.py\u001b[0m in \u001b[0;36msplit\u001b[1;34m(self, X, y, groups)\u001b[0m\n\u001b[0;32m    729\u001b[0m         \u001b[0mto\u001b[0m \u001b[0man\u001b[0m \u001b[0minteger\u001b[0m\u001b[1;33m.\u001b[0m\u001b[1;33m\u001b[0m\u001b[1;33m\u001b[0m\u001b[0m\n\u001b[0;32m    730\u001b[0m         \"\"\"\n\u001b[1;32m--> 731\u001b[1;33m         \u001b[0my\u001b[0m \u001b[1;33m=\u001b[0m \u001b[0mcheck_array\u001b[0m\u001b[1;33m(\u001b[0m\u001b[0my\u001b[0m\u001b[1;33m,\u001b[0m \u001b[0mensure_2d\u001b[0m\u001b[1;33m=\u001b[0m\u001b[1;32mFalse\u001b[0m\u001b[1;33m,\u001b[0m \u001b[0mdtype\u001b[0m\u001b[1;33m=\u001b[0m\u001b[1;32mNone\u001b[0m\u001b[1;33m)\u001b[0m\u001b[1;33m\u001b[0m\u001b[1;33m\u001b[0m\u001b[0m\n\u001b[0m\u001b[0;32m    732\u001b[0m         \u001b[1;32mreturn\u001b[0m \u001b[0msuper\u001b[0m\u001b[1;33m(\u001b[0m\u001b[1;33m)\u001b[0m\u001b[1;33m.\u001b[0m\u001b[0msplit\u001b[0m\u001b[1;33m(\u001b[0m\u001b[0mX\u001b[0m\u001b[1;33m,\u001b[0m \u001b[0my\u001b[0m\u001b[1;33m,\u001b[0m \u001b[0mgroups\u001b[0m\u001b[1;33m)\u001b[0m\u001b[1;33m\u001b[0m\u001b[1;33m\u001b[0m\u001b[0m\n\u001b[0;32m    733\u001b[0m \u001b[1;33m\u001b[0m\u001b[0m\n",
      "\u001b[1;32m~\\anaconda3\\envs\\wonyong\\lib\\site-packages\\sklearn\\utils\\validation.py\u001b[0m in \u001b[0;36minner_f\u001b[1;34m(*args, **kwargs)\u001b[0m\n\u001b[0;32m     61\u001b[0m             \u001b[0mextra_args\u001b[0m \u001b[1;33m=\u001b[0m \u001b[0mlen\u001b[0m\u001b[1;33m(\u001b[0m\u001b[0margs\u001b[0m\u001b[1;33m)\u001b[0m \u001b[1;33m-\u001b[0m \u001b[0mlen\u001b[0m\u001b[1;33m(\u001b[0m\u001b[0mall_args\u001b[0m\u001b[1;33m)\u001b[0m\u001b[1;33m\u001b[0m\u001b[1;33m\u001b[0m\u001b[0m\n\u001b[0;32m     62\u001b[0m             \u001b[1;32mif\u001b[0m \u001b[0mextra_args\u001b[0m \u001b[1;33m<=\u001b[0m \u001b[1;36m0\u001b[0m\u001b[1;33m:\u001b[0m\u001b[1;33m\u001b[0m\u001b[1;33m\u001b[0m\u001b[0m\n\u001b[1;32m---> 63\u001b[1;33m                 \u001b[1;32mreturn\u001b[0m \u001b[0mf\u001b[0m\u001b[1;33m(\u001b[0m\u001b[1;33m*\u001b[0m\u001b[0margs\u001b[0m\u001b[1;33m,\u001b[0m \u001b[1;33m**\u001b[0m\u001b[0mkwargs\u001b[0m\u001b[1;33m)\u001b[0m\u001b[1;33m\u001b[0m\u001b[1;33m\u001b[0m\u001b[0m\n\u001b[0m\u001b[0;32m     64\u001b[0m \u001b[1;33m\u001b[0m\u001b[0m\n\u001b[0;32m     65\u001b[0m             \u001b[1;31m# extra_args > 0\u001b[0m\u001b[1;33m\u001b[0m\u001b[1;33m\u001b[0m\u001b[1;33m\u001b[0m\u001b[0m\n",
      "\u001b[1;32m~\\anaconda3\\envs\\wonyong\\lib\\site-packages\\sklearn\\utils\\validation.py\u001b[0m in \u001b[0;36mcheck_array\u001b[1;34m(array, accept_sparse, accept_large_sparse, dtype, order, copy, force_all_finite, ensure_2d, allow_nd, ensure_min_samples, ensure_min_features, estimator)\u001b[0m\n\u001b[0;32m    661\u001b[0m \u001b[1;33m\u001b[0m\u001b[0m\n\u001b[0;32m    662\u001b[0m         \u001b[1;32mif\u001b[0m \u001b[0mforce_all_finite\u001b[0m\u001b[1;33m:\u001b[0m\u001b[1;33m\u001b[0m\u001b[1;33m\u001b[0m\u001b[0m\n\u001b[1;32m--> 663\u001b[1;33m             _assert_all_finite(array,\n\u001b[0m\u001b[0;32m    664\u001b[0m                                allow_nan=force_all_finite == 'allow-nan')\n\u001b[0;32m    665\u001b[0m \u001b[1;33m\u001b[0m\u001b[0m\n",
      "\u001b[1;32m~\\anaconda3\\envs\\wonyong\\lib\\site-packages\\sklearn\\utils\\validation.py\u001b[0m in \u001b[0;36m_assert_all_finite\u001b[1;34m(X, allow_nan, msg_dtype)\u001b[0m\n\u001b[0;32m    101\u001b[0m                 not allow_nan and not np.isfinite(X).all()):\n\u001b[0;32m    102\u001b[0m             \u001b[0mtype_err\u001b[0m \u001b[1;33m=\u001b[0m \u001b[1;34m'infinity'\u001b[0m \u001b[1;32mif\u001b[0m \u001b[0mallow_nan\u001b[0m \u001b[1;32melse\u001b[0m \u001b[1;34m'NaN, infinity'\u001b[0m\u001b[1;33m\u001b[0m\u001b[1;33m\u001b[0m\u001b[0m\n\u001b[1;32m--> 103\u001b[1;33m             raise ValueError(\n\u001b[0m\u001b[0;32m    104\u001b[0m                     \u001b[0mmsg_err\u001b[0m\u001b[1;33m.\u001b[0m\u001b[0mformat\u001b[0m\u001b[1;33m\u001b[0m\u001b[1;33m\u001b[0m\u001b[0m\n\u001b[0;32m    105\u001b[0m                     (type_err,\n",
      "\u001b[1;31mValueError\u001b[0m: Input contains NaN, infinity or a value too large for dtype('float64')."
     ]
    }
   ],
   "source": [
    "model = lightgbm.LGBMClassifier()\n",
    "skfold = StratifiedKFold(n_splits=5)\n",
    "\n",
    "cv_accuracy = []\n",
    "\n",
    "X_grad = ms_grad[grad_cat_features + grad_num_features]\n",
    "y_grad = ms_grad[grad_term]\n",
    "\n",
    "iter = 0\n",
    "for train_idx, test_idx in skfold.split(X_grad, y_grad):\n",
    "    # print(X_grad.iloc[train_idx])\n",
    "    # print(y_grad.iloc[test_idx])\n",
    "    model.fit(X_grad.iloc[train_idx], y_grad.iloc[train_idx].values.ravel())\n",
    "    pred = model.predict(X_grad.iloc[test_idx])\n",
    "    cv_accuracy.append(accuracy_score(y_grad.iloc[test_idx], pred))\n",
    "    print(f\"Fold {iter}:\\n\",classification_report(y_grad.iloc[test_idx], pred, zero_division=0))\n",
    "    iter += 1\n",
    "\n",
    "print(\"masters cross validation result : \", cv_accuracy)"
   ]
  },
  {
   "cell_type": "markdown",
   "metadata": {},
   "source": [
    "### 재학자에 대한 예측"
   ]
  },
  {
   "cell_type": "code",
   "execution_count": null,
   "metadata": {},
   "outputs": [],
   "source": [
    "'''\n",
    "ms_undergrad.columns = \n",
    "['Unnamed: 0', 'Unnamed: 0.1', 'Unnamed: 0.1.1', '학번', '학생소속대학명',\n",
    "       '학생교육부계열', '성별', '입학과정', '학적', '학과', '전공', '전공교수', 'rec012_nation_cd',\n",
    "       '과정', '수료년도', '수료학기', 'rec012_birth_dt', 'gpa', 'rec012_school_term',\n",
    "       '인건비총액', '서류점수', '면접점수', '학부출신', '대학원출신']\n",
    "'''\n",
    "ms_undergrad.columns = ['Unnamed: 0', 'Unnamed: 0.1', 'Unnamed: 0.1.1', '학번', '학생소속대학명',\n",
    "       '학생교육부계열', '성별', '입학과정', '학적', '학과', '전공', '전공교수', 'nation_cd',\n",
    "       '과정', '수료년도', '수료학기', 'rec012_birth_dt', 'gpa', 'school_term',\n",
    "       '인건비총액', '서류점수', '면접점수', '학부출신', '대학원출신']\n",
    "\n",
    "undergrad_cat_features = ['학생소속대학명', '학생교육부계열', '성별', '입학과정', '학과', 'nation_cd', '학부출신']    #범주형 데이터\n",
    "undergrad_num_features = ['gpa', '서류점수', '면접점수', '인건비총액']       #연속형 데이터\n",
    "undergrad_term = ['school_term']\n",
    "\n",
    "for i in undergrad_cat_features:\n",
    "    ms_undergrad[i] = ms_undergrad[i].astype('category')\n",
    "\n",
    "X_undergrad = ms_undergrad[undergrad_cat_features + undergrad_num_features]\n",
    "\n",
    "y_undergrad = pd.DataFrame(model.predict(X_undergrad))"
   ]
  },
  {
   "cell_type": "code",
   "execution_count": null,
   "metadata": {},
   "outputs": [],
   "source": [
    "ms_undergrad['predicted_school_term'] = y_undergrad\n",
    "ms_undergrad.to_csv(os.path.join(os.getcwd(), 'prediction_result', 'original_data', 'std_info_ms_predicted.csv'))"
   ]
  },
  {
   "cell_type": "markdown",
   "metadata": {},
   "source": [
    "------\n",
    "## 2. 전체 박사 졸업 예측"
   ]
  },
  {
   "cell_type": "code",
   "execution_count": null,
   "metadata": {},
   "outputs": [
    {
     "name": "stdout",
     "output_type": "stream",
     "text": [
      "['d:\\\\wonyong\\\\기타\\\\bk장학금\\\\내외국인_공대_예측\\\\original_data\\\\std_info_grad_phd.csv', 'd:\\\\wonyong\\\\기타\\\\bk장학금\\\\내외국인_공대_예측\\\\original_data\\\\std_info_phd.csv']\n"
     ]
    }
   ],
   "source": [
    "total_phd_list = glob.glob(os.path.join(os.getcwd(), 'original_data', '*phd.csv'))\n",
    "print(total_phd_list)"
   ]
  },
  {
   "cell_type": "code",
   "execution_count": null,
   "metadata": {},
   "outputs": [],
   "source": [
    "phd_grad = pd.read_csv(total_phd_list[0])\n",
    "phd_undergrad = pd.read_csv(total_phd_list[1])\n"
   ]
  },
  {
   "cell_type": "code",
   "execution_count": null,
   "metadata": {},
   "outputs": [
    {
     "data": {
      "text/plain": [
       "0      4\n",
       "1      4\n",
       "2      4\n",
       "3      4\n",
       "4      4\n",
       "      ..\n",
       "594    4\n",
       "595    4\n",
       "596    4\n",
       "597    4\n",
       "598    4\n",
       "Name: rec014_school_term, Length: 599, dtype: int64"
      ]
     },
     "execution_count": 86,
     "metadata": {},
     "output_type": "execute_result"
    }
   ],
   "source": [
    "phd_grad['rec014_school_term']"
   ]
  },
  {
   "cell_type": "code",
   "execution_count": null,
   "metadata": {},
   "outputs": [],
   "source": [
    "'''\n",
    "phd_grad.columns = \n",
    "['Unnamed: 0', 'Unnamed: 0.1', 'Unnamed: 0.1.1', '학번', '학생소속대학명',\n",
    "'학생교육부계열', '성별', '입학과정', '학적', '학과', '전공', '전공교수', 'rec014_nation_cd',\n",
    "'과정', '수료년도', '수료학기', 'rec014_birth_dt', '졸업년도', '졸업학기', 'gpa',\n",
    "'rec014_school_term', '서류점수', '면접점수', '학부출신', '대학원출신', '인건비총액']\n",
    "'''\n",
    "phd_grad.columns = ['Unnamed: 0', 'Unnamed: 0.1', 'Unnamed: 0.1.1', '학번', '학생소속대학명',        #학습 위해서 column name(rec014~) 변경\n",
    "'학생교육부계열', '성별', '입학과정', '학적', '학과', '전공', '전공교수', 'nation_cd',\n",
    "'과정', '수료년도', '수료학기', 'rec014_birth_dt', '졸업년도', '졸업학기', 'gpa',\n",
    "'school_term', '서류점수', '면접점수', '학부출신', '대학원출신', '인건비총액']\n",
    "\n",
    "grad_cat_features = ['학생소속대학명', '학생교육부계열', '성별', '입학과정', '학과', 'nation_cd', '학부출신']    #범주형 데이터\n",
    "grad_num_features = ['gpa', '서류점수', '면접점수', '인건비총액']       #연속형 데이터\n",
    "grad_term = ['school_term']\n",
    "\n",
    "for i in grad_cat_features:\n",
    "    phd_grad[i] = phd_grad[i].astype('category')"
   ]
  },
  {
   "cell_type": "markdown",
   "metadata": {},
   "source": [
    "### 졸업자 정보에 대하여 Stratified 5-Fold 학습\n"
   ]
  },
  {
   "cell_type": "code",
   "execution_count": null,
   "metadata": {},
   "outputs": [
    {
     "name": "stdout",
     "output_type": "stream",
     "text": [
      "Fold 0:\n",
      "               precision    recall  f1-score   support\n",
      "\n",
      "           4       0.93      0.99      0.96       112\n",
      "           5       0.00      0.00      0.00         7\n",
      "           6       0.00      0.00      0.00         1\n",
      "\n",
      "    accuracy                           0.93       120\n",
      "   macro avg       0.31      0.33      0.32       120\n",
      "weighted avg       0.87      0.93      0.90       120\n",
      "\n",
      "Fold 1:\n",
      "               precision    recall  f1-score   support\n",
      "\n",
      "           4       0.93      1.00      0.97       112\n",
      "           5       0.00      0.00      0.00         7\n",
      "           6       0.00      0.00      0.00         1\n",
      "\n",
      "    accuracy                           0.93       120\n",
      "   macro avg       0.31      0.33      0.32       120\n",
      "weighted avg       0.87      0.93      0.90       120\n",
      "\n",
      "Fold 2:\n",
      "               precision    recall  f1-score   support\n",
      "\n",
      "           4       0.94      1.00      0.97       112\n",
      "           5       1.00      0.14      0.25         7\n",
      "           6       0.00      0.00      0.00         1\n",
      "\n",
      "    accuracy                           0.94       120\n",
      "   macro avg       0.65      0.38      0.41       120\n",
      "weighted avg       0.94      0.94      0.92       120\n",
      "\n",
      "Fold 3:\n",
      "               precision    recall  f1-score   support\n",
      "\n",
      "           4       0.93      0.97      0.95       112\n",
      "           5       0.00      0.00      0.00         7\n",
      "           6       0.00      0.00      0.00         1\n",
      "\n",
      "    accuracy                           0.91       120\n",
      "   macro avg       0.31      0.32      0.32       120\n",
      "weighted avg       0.87      0.91      0.89       120\n",
      "\n",
      "Fold 4:\n",
      "               precision    recall  f1-score   support\n",
      "\n",
      "           4       0.93      0.98      0.96       111\n",
      "           5       0.00      0.00      0.00         7\n",
      "           6       0.00      0.00      0.00         1\n",
      "\n",
      "    accuracy                           0.92       119\n",
      "   macro avg       0.31      0.33      0.32       119\n",
      "weighted avg       0.87      0.92      0.89       119\n",
      "\n",
      "masters cross validation result :  [0.925, 0.9333333333333333, 0.9416666666666667, 0.9083333333333333, 0.9159663865546218]\n"
     ]
    }
   ],
   "source": [
    "model = lightgbm.LGBMClassifier()\n",
    "skfold = StratifiedKFold(n_splits=5)\n",
    "\n",
    "cv_accuracy = []\n",
    "\n",
    "X_grad = phd_grad[grad_cat_features + grad_num_features]\n",
    "y_grad = phd_grad[grad_term]\n",
    "\n",
    "iter = 0\n",
    "for train_idx, test_idx in skfold.split(X_grad, y_grad):\n",
    "    # print(X_grad.iloc[train_idx])\n",
    "    # print(y_grad.iloc[test_idx])\n",
    "    model.fit(X_grad.iloc[train_idx], y_grad.iloc[train_idx].values.ravel())\n",
    "    pred = model.predict(X_grad.iloc[test_idx])\n",
    "    cv_accuracy.append(accuracy_score(y_grad.iloc[test_idx], pred))\n",
    "    print(f\"Fold {iter}:\\n\",classification_report(y_grad.iloc[test_idx], pred, zero_division=0))\n",
    "    iter += 1\n",
    "\n",
    "print(\"masters cross validation result : \", cv_accuracy)"
   ]
  },
  {
   "cell_type": "markdown",
   "metadata": {},
   "source": [
    "### 재학자에 대한 예측"
   ]
  },
  {
   "cell_type": "code",
   "execution_count": null,
   "metadata": {},
   "outputs": [],
   "source": [
    "'''\n",
    "phd_undergrad.columns = \n",
    "['Unnamed: 0', 'Unnamed: 0.1', 'Unnamed: 0.1.1', '학번', '학생소속대학명',\n",
    "       '학생교육부계열', '성별', '입학과정', '학적', '학과', '전공', '전공교수', 'rec012_nation_cd',\n",
    "       '과정', '수료년도', '수료학기', 'rec012_birth_dt', 'gpa', 'rec012_school_term',\n",
    "       '서류점수', '면접점수', '학부출신', '대학원출신', '인건비총액']\n",
    "'''\n",
    "phd_undergrad.columns = ['Unnamed: 0', 'Unnamed: 0.1', 'Unnamed: 0.1.1', '학번', '학생소속대학명',\n",
    "       '학생교육부계열', '성별', '입학과정', '학적', '학과', '전공', '전공교수', 'nation_cd',\n",
    "       '과정', '수료년도', '수료학기', 'rec012_birth_dt', 'gpa', 'school_term',\n",
    "       '서류점수', '면접점수', '학부출신', '대학원출신', '인건비총액']\n",
    "\n",
    "undergrad_cat_features = ['학생소속대학명', '학생교육부계열', '성별', '입학과정', '학과', 'nation_cd', '학부출신']    #범주형 데이터\n",
    "undergrad_num_features = ['gpa', '서류점수', '면접점수', '인건비총액']       #연속형 데이터\n",
    "undergrad_term = ['school_term']\n",
    "\n",
    "for i in undergrad_cat_features:\n",
    "    phd_undergrad[i] = phd_undergrad[i].astype('category')\n",
    "\n",
    "X_undergrad = phd_undergrad[undergrad_cat_features + undergrad_num_features]\n",
    "\n",
    "y_undergrad = pd.DataFrame(model.predict(X_undergrad))"
   ]
  },
  {
   "cell_type": "code",
   "execution_count": null,
   "metadata": {},
   "outputs": [],
   "source": [
    "phd_undergrad['predicted_school_term'] = y_undergrad\n",
    "phd_undergrad.to_csv(os.path.join(os.getcwd(), 'prediction_result', 'original_data', 'std_info_phd_predicted.csv'))"
   ]
  },
  {
   "cell_type": "markdown",
   "metadata": {},
   "source": [
    "------\n",
    "## 3. 전체 석박통합 졸업 예측"
   ]
  },
  {
   "cell_type": "code",
   "execution_count": null,
   "metadata": {},
   "outputs": [
    {
     "name": "stdout",
     "output_type": "stream",
     "text": [
      "['d:\\\\wonyong\\\\기타\\\\bk장학금\\\\내외국인_공대_예측\\\\original_data\\\\std_info_combined.csv', 'd:\\\\wonyong\\\\기타\\\\bk장학금\\\\내외국인_공대_예측\\\\original_data\\\\std_info_grad_combined.csv']\n"
     ]
    }
   ],
   "source": [
    "total_combined_list = glob.glob(os.path.join(os.getcwd(), 'original_data', '*combined.csv'))\n",
    "print(total_combined_list)"
   ]
  },
  {
   "cell_type": "code",
   "execution_count": null,
   "metadata": {},
   "outputs": [],
   "source": [
    "combined_grad = pd.read_csv(total_combined_list[1])\n",
    "combined_undergrad = pd.read_csv(total_combined_list[0])\n"
   ]
  },
  {
   "cell_type": "code",
   "execution_count": null,
   "metadata": {},
   "outputs": [],
   "source": [
    "'''\n",
    "combined_grad.columns = \n",
    "['Unnamed: 0', 'Unnamed: 0.1', 'Unnamed: 0.1.1', '학번', '학생소속대학명',\n",
    "       '학생교육부계열', '성별', '입학과정', '학적', '학과', '전공', '전공교수', 'rec014_nation_cd',\n",
    "       '과정', '수료년도', '수료학기', 'rec014_birth_dt', '졸업년도', '졸업학기', 'gpa',\n",
    "       'rec014_school_term', '인건비총액', '서류점수', '면접점수', '학부출신', '대학원출신']\n",
    "'''\n",
    "combined_grad.columns = ['Unnamed: 0', 'Unnamed: 0.1', 'Unnamed: 0.1.1', '학번', '학생소속대학명',              #학습 위해서 column name(rec014~) 변경\n",
    "       '학생교육부계열', '성별', '입학과정', '학적', '학과', '전공', '전공교수', 'nation_cd',\n",
    "       '과정', '수료년도', '수료학기', 'rec014_birth_dt', '졸업년도', '졸업학기', 'gpa',\n",
    "       'school_term', '인건비총액', '서류점수', '면접점수', '학부출신', '대학원출신']\n",
    "\n",
    "grad_cat_features = ['학생소속대학명', '학생교육부계열', '성별', '입학과정', '학과', 'nation_cd', '학부출신']    #범주형 데이터\n",
    "grad_num_features = ['gpa', '서류점수', '면접점수', '인건비총액']       #연속형 데이터\n",
    "grad_term = ['school_term']\n",
    "\n",
    "for i in grad_cat_features:\n",
    "    combined_grad[i] = combined_grad[i].astype('category')"
   ]
  },
  {
   "cell_type": "markdown",
   "metadata": {},
   "source": [
    "### 졸업자 정보에 대하여 Stratified 5-Fold 학습\n"
   ]
  },
  {
   "cell_type": "code",
   "execution_count": null,
   "metadata": {},
   "outputs": [
    {
     "name": "stderr",
     "output_type": "stream",
     "text": [
      "C:\\Users\\Administrator\\anaconda3\\envs\\wonyong\\lib\\site-packages\\sklearn\\model_selection\\_split.py:666: UserWarning: The least populated class in y has only 1 members, which is less than n_splits=5.\n",
      "  warnings.warn((\"The least populated class in y has only %d\"\n"
     ]
    },
    {
     "name": "stdout",
     "output_type": "stream",
     "text": [
      "Fold 0:\n",
      "               precision    recall  f1-score   support\n",
      "\n",
      "           6       0.79      0.94      0.86        32\n",
      "           7       0.33      0.20      0.25         5\n",
      "           8       0.00      0.00      0.00         3\n",
      "           9       0.00      0.00      0.00         1\n",
      "\n",
      "    accuracy                           0.76        41\n",
      "   macro avg       0.28      0.28      0.28        41\n",
      "weighted avg       0.66      0.76      0.70        41\n",
      "\n",
      "Fold 1:\n",
      "               precision    recall  f1-score   support\n",
      "\n",
      "           6       0.89      1.00      0.94        32\n",
      "           7       1.00      0.20      0.33         5\n",
      "           8       1.00      1.00      1.00         3\n",
      "\n",
      "    accuracy                           0.90        40\n",
      "   macro avg       0.96      0.73      0.76        40\n",
      "weighted avg       0.91      0.90      0.87        40\n",
      "\n",
      "Fold 2:\n",
      "               precision    recall  f1-score   support\n",
      "\n",
      "           6       0.88      0.91      0.89        32\n",
      "           7       0.25      0.20      0.22         5\n",
      "           8       1.00      1.00      1.00         3\n",
      "\n",
      "    accuracy                           0.82        40\n",
      "   macro avg       0.71      0.70      0.70        40\n",
      "weighted avg       0.81      0.82      0.82        40\n",
      "\n",
      "Fold 3:\n",
      "               precision    recall  f1-score   support\n",
      "\n",
      "           6       0.86      1.00      0.93        32\n",
      "           7       0.00      0.00      0.00         5\n",
      "           8       1.00      0.33      0.50         3\n",
      "\n",
      "    accuracy                           0.82        40\n",
      "   macro avg       0.62      0.44      0.48        40\n",
      "weighted avg       0.77      0.82      0.78        40\n",
      "\n",
      "Fold 4:\n",
      "               precision    recall  f1-score   support\n",
      "\n",
      "           6       0.84      0.84      0.84        31\n",
      "           7       0.00      0.00      0.00         6\n",
      "           8       0.60      1.00      0.75         3\n",
      "           9       0.00      0.00      0.00         0\n",
      "\n",
      "    accuracy                           0.73        40\n",
      "   macro avg       0.36      0.46      0.40        40\n",
      "weighted avg       0.70      0.72      0.71        40\n",
      "\n",
      "masters cross validation result :  [0.7560975609756098, 0.9, 0.825, 0.825, 0.725]\n"
     ]
    }
   ],
   "source": [
    "model = lightgbm.LGBMClassifier()\n",
    "skfold = StratifiedKFold(n_splits=5)\n",
    "\n",
    "cv_accuracy = []\n",
    "\n",
    "X_grad = combined_grad[grad_cat_features + grad_num_features]\n",
    "y_grad = combined_grad[grad_term]\n",
    "\n",
    "iter = 0\n",
    "for train_idx, test_idx in skfold.split(X_grad, y_grad):\n",
    "    # print(X_grad.iloc[train_idx])\n",
    "    # print(y_grad.iloc[test_idx])\n",
    "    model.fit(X_grad.iloc[train_idx], y_grad.iloc[train_idx].values.ravel())\n",
    "    pred = model.predict(X_grad.iloc[test_idx])\n",
    "    cv_accuracy.append(accuracy_score(y_grad.iloc[test_idx], pred))\n",
    "    print(f\"Fold {iter}:\\n\",classification_report(y_grad.iloc[test_idx], pred, zero_division=0))\n",
    "    iter += 1\n",
    "\n",
    "print(\"masters cross validation result : \", cv_accuracy)"
   ]
  },
  {
   "cell_type": "markdown",
   "metadata": {},
   "source": [
    "### 재학자에 대한 예측"
   ]
  },
  {
   "cell_type": "code",
   "execution_count": null,
   "metadata": {},
   "outputs": [],
   "source": [
    "'''\n",
    "combined_undergrad.columns = \n",
    "['Unnamed: 0', 'Unnamed: 0.1', 'Unnamed: 0.1.1', '학번', '학생소속대학명',\n",
    "       '학생교육부계열', '성별', '입학과정', '학적', '학과', '전공', '전공교수', 'rec012_nation_cd',\n",
    "       '과정', '수료년도', '수료학기', 'rec012_birth_dt', 'gpa', 'rec012_school_term',\n",
    "       '인건비총액', '서류점수', '면접점수', '학부출신', '대학원출신']\n",
    "'''\n",
    "combined_undergrad.columns = ['Unnamed: 0', 'Unnamed: 0.1', 'Unnamed: 0.1.1', '학번', '학생소속대학명',\n",
    "       '학생교육부계열', '성별', '입학과정', '학적', '학과', '전공', '전공교수', 'nation_cd',\n",
    "       '과정', '수료년도', '수료학기', 'rec012_birth_dt', 'gpa', 'school_term',\n",
    "       '인건비총액', '서류점수', '면접점수', '학부출신', '대학원출신']\n",
    "\n",
    "undergrad_cat_features = ['학생소속대학명', '학생교육부계열', '성별', '입학과정', '학과', 'nation_cd', '학부출신']    #범주형 데이터\n",
    "undergrad_num_features = ['gpa', '서류점수', '면접점수', '인건비총액']       #연속형 데이터\n",
    "undergrad_term = ['school_term']\n",
    "\n",
    "for i in undergrad_cat_features:\n",
    "    combined_undergrad[i] = combined_undergrad[i].astype('category')\n",
    "\n",
    "X_undergrad = combined_undergrad[undergrad_cat_features + undergrad_num_features]\n",
    "\n",
    "y_undergrad = pd.DataFrame(model.predict(X_undergrad))"
   ]
  },
  {
   "cell_type": "code",
   "execution_count": null,
   "metadata": {},
   "outputs": [],
   "source": [
    "combined_undergrad['predicted_school_term'] = y_undergrad\n",
    "combined_undergrad.to_csv(os.path.join(os.getcwd(), 'prediction_result', 'original_data', 'std_info_combined_predicted.csv'))"
   ]
  },
  {
   "cell_type": "markdown",
   "metadata": {},
   "source": [
    "------\n",
    "------\n",
    "## 1. 공학계열 석사 졸업 예측"
   ]
  },
  {
   "cell_type": "code",
   "execution_count": null,
   "metadata": {},
   "outputs": [
    {
     "name": "stdout",
     "output_type": "stream",
     "text": [
      "['d:\\\\wonyong\\\\기타\\\\bk장학금\\\\내외국인_공대_예측\\\\eng_data\\\\std_info_grad_ms_eng.csv', 'd:\\\\wonyong\\\\기타\\\\bk장학금\\\\내외국인_공대_예측\\\\eng_data\\\\std_info_ms_eng.csv']\n"
     ]
    }
   ],
   "source": [
    "total_ms_list = glob.glob(os.path.join(os.getcwd(), 'eng_data', '*ms_eng.csv'))\n",
    "print(total_ms_list)"
   ]
  },
  {
   "cell_type": "code",
   "execution_count": null,
   "metadata": {},
   "outputs": [],
   "source": [
    "ms_grad = pd.read_csv(total_ms_list[0])\n",
    "ms_undergrad = pd.read_csv(total_ms_list[1])\n"
   ]
  },
  {
   "cell_type": "code",
   "execution_count": null,
   "metadata": {},
   "outputs": [],
   "source": [
    "'''\n",
    "ms_grad.columns = \n",
    "['Unnamed: 0', 'Unnamed: 0.1', 'Unnamed: 0.1.1', '학번', '학생소속대학명',\n",
    "'학생교육부계열', '성별', '입학과정', '학적', '학과', '전공', '전공교수', 'rec014_nation_cd',\n",
    "'과정', '수료년도', '수료학기', 'rec014_birth_dt', '졸업년도', '졸업학기', 'gpa',\n",
    "'rec014_school_term', '서류점수', '면접점수', '학부출신', '대학원출신', '인건비총액']\n",
    "'''\n",
    "ms_grad.columns = ['Unnamed: 0', 'Unnamed: 0.1', 'Unnamed: 0.1.1', '학번', '학생소속대학명',        #학습 위해서 column name(rec014~) 변경\n",
    "'학생교육부계열', '성별', '입학과정', '학적', '학과', '전공', '전공교수', 'nation_cd',\n",
    "'과정', '수료년도', '수료학기', 'rec014_birth_dt', '졸업년도', '졸업학기', 'gpa',\n",
    "'school_term', '서류점수', '면접점수', '학부출신', '대학원출신', '인건비총액']\n",
    "\n",
    "grad_cat_features = ['학생소속대학명', '학생교육부계열', '성별', '입학과정', '학과', 'nation_cd', '학부출신']    #범주형 데이터\n",
    "grad_num_features = ['gpa', '서류점수', '면접점수', '인건비총액']       #연속형 데이터\n",
    "grad_term = ['school_term']\n",
    "\n",
    "for i in grad_cat_features:\n",
    "    ms_grad[i] = ms_grad[i].astype('category')"
   ]
  },
  {
   "cell_type": "markdown",
   "metadata": {},
   "source": [
    "### 졸업자 정보에 대하여 Stratified 5-Fold 학습\n"
   ]
  },
  {
   "cell_type": "code",
   "execution_count": null,
   "metadata": {},
   "outputs": [
    {
     "name": "stderr",
     "output_type": "stream",
     "text": [
      "C:\\Users\\Administrator\\anaconda3\\envs\\wonyong\\lib\\site-packages\\sklearn\\model_selection\\_split.py:666: UserWarning: The least populated class in y has only 3 members, which is less than n_splits=5.\n",
      "  warnings.warn((\"The least populated class in y has only %d\"\n"
     ]
    },
    {
     "name": "stdout",
     "output_type": "stream",
     "text": [
      "Fold 0:\n",
      "               precision    recall  f1-score   support\n",
      "\n",
      "           4       0.98      0.99      0.98       289\n",
      "           5       0.00      0.00      0.00         6\n",
      "           6       0.00      0.00      0.00         1\n",
      "           7       0.00      0.00      0.00         1\n",
      "\n",
      "    accuracy                           0.97       297\n",
      "   macro avg       0.24      0.25      0.25       297\n",
      "weighted avg       0.95      0.97      0.96       297\n",
      "\n",
      "Fold 1:\n",
      "               precision    recall  f1-score   support\n",
      "\n",
      "           4       0.98      1.00      0.99       289\n",
      "           5       0.00      0.00      0.00         6\n",
      "           6       1.00      1.00      1.00         1\n",
      "           7       0.00      0.00      0.00         1\n",
      "\n",
      "    accuracy                           0.98       297\n",
      "   macro avg       0.49      0.50      0.50       297\n",
      "weighted avg       0.95      0.98      0.96       297\n",
      "\n",
      "Fold 2:\n",
      "               precision    recall  f1-score   support\n",
      "\n",
      "           3       0.00      0.00      0.00         1\n",
      "           4       0.97      1.00      0.98       288\n",
      "           5       0.00      0.00      0.00         6\n",
      "           6       0.00      0.00      0.00         2\n",
      "\n",
      "    accuracy                           0.97       297\n",
      "   macro avg       0.24      0.25      0.25       297\n",
      "weighted avg       0.94      0.97      0.95       297\n",
      "\n",
      "Fold 3:\n",
      "               precision    recall  f1-score   support\n",
      "\n",
      "           3       0.00      0.00      0.00         1\n",
      "           4       0.97      1.00      0.98       288\n",
      "           5       0.00      0.00      0.00         6\n",
      "           6       0.00      0.00      0.00         2\n",
      "\n",
      "    accuracy                           0.97       297\n",
      "   macro avg       0.24      0.25      0.25       297\n",
      "weighted avg       0.94      0.97      0.95       297\n",
      "\n",
      "Fold 4:\n",
      "               precision    recall  f1-score   support\n",
      "\n",
      "           3       0.00      0.00      0.00         1\n",
      "           4       0.97      0.99      0.98       288\n",
      "           5       0.00      0.00      0.00         5\n",
      "           6       0.00      0.00      0.00         1\n",
      "           7       0.00      0.00      0.00         1\n",
      "\n",
      "    accuracy                           0.97       296\n",
      "   macro avg       0.19      0.20      0.20       296\n",
      "weighted avg       0.95      0.97      0.96       296\n",
      "\n",
      "masters cross validation result :  [0.9663299663299664, 0.9764309764309764, 0.9663299663299664, 0.9696969696969697, 0.9662162162162162]\n"
     ]
    }
   ],
   "source": [
    "model = lightgbm.LGBMClassifier()\n",
    "skfold = StratifiedKFold(n_splits=5)\n",
    "\n",
    "cv_accuracy = []\n",
    "\n",
    "X_grad = ms_grad[grad_cat_features + grad_num_features]\n",
    "y_grad = ms_grad[grad_term]\n",
    "\n",
    "iter = 0\n",
    "for train_idx, test_idx in skfold.split(X_grad, y_grad):\n",
    "    # print(X_grad.iloc[train_idx])\n",
    "    # print(y_grad.iloc[test_idx])\n",
    "    model.fit(X_grad.iloc[train_idx], y_grad.iloc[train_idx].values.ravel())\n",
    "    pred = model.predict(X_grad.iloc[test_idx])\n",
    "    cv_accuracy.append(accuracy_score(y_grad.iloc[test_idx], pred))\n",
    "    print(f\"Fold {iter}:\\n\",classification_report(y_grad.iloc[test_idx], pred, zero_division=0))\n",
    "    iter += 1\n",
    "\n",
    "print(\"masters cross validation result : \", cv_accuracy)"
   ]
  },
  {
   "cell_type": "markdown",
   "metadata": {},
   "source": [
    "### 재학자에 대한 예측"
   ]
  },
  {
   "cell_type": "code",
   "execution_count": null,
   "metadata": {},
   "outputs": [],
   "source": [
    "'''\n",
    "ms_undergrad.columns = \n",
    "['Unnamed: 0', 'Unnamed: 0.1', 'Unnamed: 0.1.1', '학번', '학생소속대학명',\n",
    "       '학생교육부계열', '성별', '입학과정', '학적', '학과', '전공', '전공교수', 'rec012_nation_cd',\n",
    "       '과정', '수료년도', '수료학기', 'rec012_birth_dt', 'gpa', 'rec012_school_term',\n",
    "       '인건비총액', '서류점수', '면접점수', '학부출신', '대학원출신']\n",
    "'''\n",
    "ms_undergrad.columns = ['Unnamed: 0', 'Unnamed: 0.1', 'Unnamed: 0.1.1', '학번', '학생소속대학명',\n",
    "       '학생교육부계열', '성별', '입학과정', '학적', '학과', '전공', '전공교수', 'nation_cd',\n",
    "       '과정', '수료년도', '수료학기', 'rec012_birth_dt', 'gpa', 'school_term',\n",
    "       '인건비총액', '서류점수', '면접점수', '학부출신', '대학원출신']\n",
    "\n",
    "undergrad_cat_features = ['학생소속대학명', '학생교육부계열', '성별', '입학과정', '학과', 'nation_cd', '학부출신']    #범주형 데이터\n",
    "undergrad_num_features = ['gpa', '서류점수', '면접점수', '인건비총액']       #연속형 데이터\n",
    "undergrad_term = ['school_term']\n",
    "\n",
    "for i in undergrad_cat_features:\n",
    "    ms_undergrad[i] = ms_undergrad[i].astype('category')\n",
    "\n",
    "X_undergrad = ms_undergrad[undergrad_cat_features + undergrad_num_features]\n",
    "\n",
    "y_undergrad = pd.DataFrame(model.predict(X_undergrad))"
   ]
  },
  {
   "cell_type": "code",
   "execution_count": null,
   "metadata": {},
   "outputs": [],
   "source": [
    "ms_undergrad['predicted_school_term'] = y_undergrad\n",
    "ms_undergrad.to_csv(os.path.join(os.getcwd(), 'prediction_result', 'eng_data', 'std_info_ms_eng_predicted.csv'))"
   ]
  },
  {
   "cell_type": "markdown",
   "metadata": {},
   "source": [
    "------\n",
    "## 2. 공학계열 박사 졸업 예측"
   ]
  },
  {
   "cell_type": "code",
   "execution_count": null,
   "metadata": {},
   "outputs": [
    {
     "name": "stdout",
     "output_type": "stream",
     "text": [
      "['d:\\\\wonyong\\\\기타\\\\bk장학금\\\\내외국인_공대_예측\\\\eng_data\\\\std_info_grad_phd_eng.csv', 'd:\\\\wonyong\\\\기타\\\\bk장학금\\\\내외국인_공대_예측\\\\eng_data\\\\std_info_phd_eng.csv']\n"
     ]
    }
   ],
   "source": [
    "total_phd_list = glob.glob(os.path.join(os.getcwd(), 'eng_data', '*phd_eng.csv'))\n",
    "print(total_phd_list)"
   ]
  },
  {
   "cell_type": "code",
   "execution_count": null,
   "metadata": {},
   "outputs": [],
   "source": [
    "phd_grad = pd.read_csv(total_phd_list[0])\n",
    "phd_undergrad = pd.read_csv(total_phd_list[1])\n"
   ]
  },
  {
   "cell_type": "code",
   "execution_count": null,
   "metadata": {},
   "outputs": [],
   "source": [
    "'''\n",
    "phd_grad.columns = \n",
    "['Unnamed: 0', 'Unnamed: 0.1', 'Unnamed: 0.1.1', '학번', '학생소속대학명',\n",
    "'학생교육부계열', '성별', '입학과정', '학적', '학과', '전공', '전공교수', 'rec014_nation_cd',\n",
    "'과정', '수료년도', '수료학기', 'rec014_birth_dt', '졸업년도', '졸업학기', 'gpa',\n",
    "'rec014_school_term', '서류점수', '면접점수', '학부출신', '대학원출신', '인건비총액']\n",
    "'''\n",
    "phd_grad.columns = ['Unnamed: 0', 'Unnamed: 0.1', 'Unnamed: 0.1.1', '학번', '학생소속대학명',        #학습 위해서 column name(rec014~) 변경\n",
    "'학생교육부계열', '성별', '입학과정', '학적', '학과', '전공', '전공교수', 'nation_cd',\n",
    "'과정', '수료년도', '수료학기', 'rec014_birth_dt', '졸업년도', '졸업학기', 'gpa',\n",
    "'school_term', '서류점수', '면접점수', '학부출신', '대학원출신', '인건비총액']\n",
    "\n",
    "grad_cat_features = ['학생소속대학명', '학생교육부계열', '성별', '입학과정', '학과', 'nation_cd', '학부출신']    #범주형 데이터\n",
    "grad_num_features = ['gpa', '서류점수', '면접점수', '인건비총액']       #연속형 데이터\n",
    "grad_term = ['school_term']\n",
    "\n",
    "for i in grad_cat_features:\n",
    "    phd_grad[i] = phd_grad[i].astype('category')"
   ]
  },
  {
   "cell_type": "markdown",
   "metadata": {},
   "source": [
    "### 졸업자 정보에 대하여 Stratified 5-Fold 학습\n"
   ]
  },
  {
   "cell_type": "code",
   "execution_count": null,
   "metadata": {},
   "outputs": [
    {
     "name": "stdout",
     "output_type": "stream",
     "text": [
      "Fold 0:\n",
      "               precision    recall  f1-score   support\n",
      "\n",
      "           4       0.90      1.00      0.95        18\n",
      "           5       0.00      0.00      0.00         2\n",
      "\n",
      "    accuracy                           0.90        20\n",
      "   macro avg       0.45      0.50      0.47        20\n",
      "weighted avg       0.81      0.90      0.85        20\n",
      "\n",
      "Fold 1:\n",
      "               precision    recall  f1-score   support\n",
      "\n",
      "           4       0.90      1.00      0.95        18\n",
      "           5       0.00      0.00      0.00         2\n",
      "\n",
      "    accuracy                           0.90        20\n",
      "   macro avg       0.45      0.50      0.47        20\n",
      "weighted avg       0.81      0.90      0.85        20\n",
      "\n",
      "Fold 2:\n",
      "               precision    recall  f1-score   support\n",
      "\n",
      "           4       0.95      1.00      0.97        18\n",
      "           5       0.00      0.00      0.00         1\n",
      "\n",
      "    accuracy                           0.95        19\n",
      "   macro avg       0.47      0.50      0.49        19\n",
      "weighted avg       0.90      0.95      0.92        19\n",
      "\n",
      "Fold 3:\n",
      "               precision    recall  f1-score   support\n",
      "\n",
      "           4       0.94      0.89      0.91        18\n",
      "           5       0.00      0.00      0.00         1\n",
      "\n",
      "    accuracy                           0.84        19\n",
      "   macro avg       0.47      0.44      0.46        19\n",
      "weighted avg       0.89      0.84      0.87        19\n",
      "\n",
      "Fold 4:\n",
      "               precision    recall  f1-score   support\n",
      "\n",
      "           4       0.89      1.00      0.94        17\n",
      "           5       0.00      0.00      0.00         2\n",
      "\n",
      "    accuracy                           0.89        19\n",
      "   macro avg       0.45      0.50      0.47        19\n",
      "weighted avg       0.80      0.89      0.85        19\n",
      "\n",
      "masters cross validation result :  [0.9, 0.9, 0.9473684210526315, 0.8421052631578947, 0.8947368421052632]\n"
     ]
    }
   ],
   "source": [
    "model = lightgbm.LGBMClassifier()\n",
    "skfold = StratifiedKFold(n_splits=5)\n",
    "\n",
    "cv_accuracy = []\n",
    "\n",
    "X_grad = phd_grad[grad_cat_features + grad_num_features]\n",
    "y_grad = phd_grad[grad_term]\n",
    "\n",
    "iter = 0\n",
    "for train_idx, test_idx in skfold.split(X_grad, y_grad):\n",
    "    # print(X_grad.iloc[train_idx])\n",
    "    # print(y_grad.iloc[test_idx])\n",
    "    model.fit(X_grad.iloc[train_idx], y_grad.iloc[train_idx].values.ravel())\n",
    "    pred = model.predict(X_grad.iloc[test_idx])\n",
    "    cv_accuracy.append(accuracy_score(y_grad.iloc[test_idx], pred))\n",
    "    print(f\"Fold {iter}:\\n\",classification_report(y_grad.iloc[test_idx], pred, zero_division=0))\n",
    "    iter += 1\n",
    "\n",
    "print(\"masters cross validation result : \", cv_accuracy)"
   ]
  },
  {
   "cell_type": "markdown",
   "metadata": {},
   "source": [
    "### 재학자에 대한 예측"
   ]
  },
  {
   "cell_type": "code",
   "execution_count": null,
   "metadata": {},
   "outputs": [],
   "source": [
    "'''\n",
    "phd_undergrad.columns = \n",
    "['Unnamed: 0', 'Unnamed: 0.1', 'Unnamed: 0.1.1', '학번', '학생소속대학명',\n",
    "       '학생교육부계열', '성별', '입학과정', '학적', '학과', '전공', '전공교수', 'rec012_nation_cd',\n",
    "       '과정', '수료년도', '수료학기', 'rec012_birth_dt', 'gpa', 'rec012_school_term',\n",
    "       '서류점수', '면접점수', '학부출신', '대학원출신', '인건비총액']\n",
    "'''\n",
    "phd_undergrad.columns = ['Unnamed: 0', 'Unnamed: 0.1', 'Unnamed: 0.1.1', '학번', '학생소속대학명',\n",
    "       '학생교육부계열', '성별', '입학과정', '학적', '학과', '전공', '전공교수', 'nation_cd',\n",
    "       '과정', '수료년도', '수료학기', 'rec012_birth_dt', 'gpa', 'school_term',\n",
    "       '서류점수', '면접점수', '학부출신', '대학원출신', '인건비총액']\n",
    "\n",
    "undergrad_cat_features = ['학생소속대학명', '학생교육부계열', '성별', '입학과정', '학과', 'nation_cd', '학부출신']    #범주형 데이터\n",
    "undergrad_num_features = ['gpa', '서류점수', '면접점수', '인건비총액']       #연속형 데이터\n",
    "undergrad_term = ['school_term']\n",
    "\n",
    "for i in undergrad_cat_features:\n",
    "    phd_undergrad[i] = phd_undergrad[i].astype('category')\n",
    "\n",
    "X_undergrad = phd_undergrad[undergrad_cat_features + undergrad_num_features]\n",
    "\n",
    "y_undergrad = pd.DataFrame(model.predict(X_undergrad))"
   ]
  },
  {
   "cell_type": "code",
   "execution_count": null,
   "metadata": {},
   "outputs": [],
   "source": [
    "phd_undergrad['predicted_school_term'] = y_undergrad\n",
    "phd_undergrad.to_csv(os.path.join(os.getcwd(), 'prediction_result', 'eng_data', 'std_info_phd_eng_predicted.csv'))"
   ]
  },
  {
   "cell_type": "markdown",
   "metadata": {},
   "source": [
    "------\n",
    "## 3. 공학계열 석박통합 졸업 예측"
   ]
  },
  {
   "cell_type": "code",
   "execution_count": null,
   "metadata": {},
   "outputs": [
    {
     "name": "stdout",
     "output_type": "stream",
     "text": [
      "['d:\\\\wonyong\\\\기타\\\\bk장학금\\\\내외국인_공대_예측\\\\eng_data\\\\std_info_combined_eng.csv', 'd:\\\\wonyong\\\\기타\\\\bk장학금\\\\내외국인_공대_예측\\\\eng_data\\\\std_info_grad_combined_eng.csv']\n"
     ]
    }
   ],
   "source": [
    "total_combined_list = glob.glob(os.path.join(os.getcwd(), 'eng_data', '*combined_eng.csv'))\n",
    "print(total_combined_list)"
   ]
  },
  {
   "cell_type": "code",
   "execution_count": null,
   "metadata": {},
   "outputs": [],
   "source": [
    "combined_grad = pd.read_csv(total_combined_list[1])\n",
    "combined_undergrad = pd.read_csv(total_combined_list[0])\n"
   ]
  },
  {
   "cell_type": "code",
   "execution_count": null,
   "metadata": {},
   "outputs": [],
   "source": [
    "'''\n",
    "combined_grad.columns = \n",
    "['Unnamed: 0', 'Unnamed: 0.1', 'Unnamed: 0.1.1', '학번', '학생소속대학명',\n",
    "       '학생교육부계열', '성별', '입학과정', '학적', '학과', '전공', '전공교수', 'rec014_nation_cd',\n",
    "       '과정', '수료년도', '수료학기', 'rec014_birth_dt', '졸업년도', '졸업학기', 'gpa',\n",
    "       'rec014_school_term', '인건비총액', '서류점수', '면접점수', '학부출신', '대학원출신']\n",
    "'''\n",
    "combined_grad.columns = ['Unnamed: 0', 'Unnamed: 0.1', 'Unnamed: 0.1.1', '학번', '학생소속대학명',              #학습 위해서 column name(rec014~) 변경\n",
    "       '학생교육부계열', '성별', '입학과정', '학적', '학과', '전공', '전공교수', 'nation_cd',\n",
    "       '과정', '수료년도', '수료학기', 'rec014_birth_dt', '졸업년도', '졸업학기', 'gpa',\n",
    "       'school_term', '인건비총액', '서류점수', '면접점수', '학부출신', '대학원출신']\n",
    "\n",
    "grad_cat_features = ['학생소속대학명', '학생교육부계열', '성별', '입학과정', '학과', 'nation_cd', '학부출신']    #범주형 데이터\n",
    "grad_num_features = ['gpa', '서류점수', '면접점수', '인건비총액']       #연속형 데이터\n",
    "grad_term = ['school_term']\n",
    "\n",
    "for i in grad_cat_features:\n",
    "    combined_grad[i] = combined_grad[i].astype('category')"
   ]
  },
  {
   "cell_type": "markdown",
   "metadata": {},
   "source": [
    "### 졸업자 정보에 대하여 Stratified 5-Fold 학습\n"
   ]
  },
  {
   "cell_type": "code",
   "execution_count": null,
   "metadata": {},
   "outputs": [
    {
     "name": "stderr",
     "output_type": "stream",
     "text": [
      "C:\\Users\\Administrator\\anaconda3\\envs\\wonyong\\lib\\site-packages\\sklearn\\model_selection\\_split.py:666: UserWarning: The least populated class in y has only 1 members, which is less than n_splits=5.\n",
      "  warnings.warn((\"The least populated class in y has only %d\"\n"
     ]
    },
    {
     "name": "stdout",
     "output_type": "stream",
     "text": [
      "Fold 0:\n",
      "               precision    recall  f1-score   support\n",
      "\n",
      "           6       0.89      1.00      0.94        16\n",
      "           7       0.00      0.00      0.00         1\n",
      "           8       0.00      0.00      0.00         1\n",
      "\n",
      "    accuracy                           0.89        18\n",
      "   macro avg       0.30      0.33      0.31        18\n",
      "weighted avg       0.79      0.89      0.84        18\n",
      "\n",
      "Fold 1:\n",
      "               precision    recall  f1-score   support\n",
      "\n",
      "           6       0.89      1.00      0.94        16\n",
      "           7       0.00      0.00      0.00         1\n",
      "           8       0.00      0.00      0.00         1\n",
      "\n",
      "    accuracy                           0.89        18\n",
      "   macro avg       0.30      0.33      0.31        18\n",
      "weighted avg       0.79      0.89      0.84        18\n",
      "\n",
      "Fold 2:\n",
      "               precision    recall  f1-score   support\n",
      "\n",
      "           6       0.94      1.00      0.97        16\n",
      "           7       0.00      0.00      0.00         1\n",
      "           8       1.00      1.00      1.00         1\n",
      "\n",
      "    accuracy                           0.94        18\n",
      "   macro avg       0.65      0.67      0.66        18\n",
      "weighted avg       0.89      0.94      0.92        18\n",
      "\n",
      "Fold 3:\n",
      "               precision    recall  f1-score   support\n",
      "\n",
      "           6       0.88      1.00      0.94        15\n",
      "           7       0.00      0.00      0.00         2\n",
      "           8       1.00      1.00      1.00         1\n",
      "\n",
      "    accuracy                           0.89        18\n",
      "   macro avg       0.63      0.67      0.65        18\n",
      "weighted avg       0.79      0.89      0.84        18\n",
      "\n",
      "Fold 4:\n",
      "               precision    recall  f1-score   support\n",
      "\n",
      "           6       0.82      0.93      0.87        15\n",
      "           7       0.00      0.00      0.00         2\n",
      "           8       0.00      0.00      0.00         0\n",
      "           9       0.00      0.00      0.00         1\n",
      "\n",
      "    accuracy                           0.78        18\n",
      "   macro avg       0.21      0.23      0.22        18\n",
      "weighted avg       0.69      0.78      0.73        18\n",
      "\n",
      "masters cross validation result :  [0.8888888888888888, 0.8888888888888888, 0.9444444444444444, 0.8888888888888888, 0.7777777777777778]\n"
     ]
    }
   ],
   "source": [
    "model = lightgbm.LGBMClassifier()\n",
    "skfold = StratifiedKFold(n_splits=5)\n",
    "\n",
    "cv_accuracy = []\n",
    "\n",
    "X_grad = combined_grad[grad_cat_features + grad_num_features]\n",
    "y_grad = combined_grad[grad_term]\n",
    "\n",
    "iter = 0\n",
    "for train_idx, test_idx in skfold.split(X_grad, y_grad):\n",
    "    # print(X_grad.iloc[train_idx])\n",
    "    # print(y_grad.iloc[test_idx])\n",
    "    model.fit(X_grad.iloc[train_idx], y_grad.iloc[train_idx].values.ravel())\n",
    "    pred = model.predict(X_grad.iloc[test_idx])\n",
    "    cv_accuracy.append(accuracy_score(y_grad.iloc[test_idx], pred))\n",
    "    print(f\"Fold {iter}:\\n\",classification_report(y_grad.iloc[test_idx], pred, zero_division=0))\n",
    "    iter += 1\n",
    "\n",
    "print(\"masters cross validation result : \", cv_accuracy)"
   ]
  },
  {
   "cell_type": "markdown",
   "metadata": {},
   "source": [
    "### 재학자에 대한 예측"
   ]
  },
  {
   "cell_type": "code",
   "execution_count": null,
   "metadata": {},
   "outputs": [],
   "source": [
    "'''\n",
    "combined_undergrad.columns = \n",
    "['Unnamed: 0', 'Unnamed: 0.1', 'Unnamed: 0.1.1', '학번', '학생소속대학명',\n",
    "       '학생교육부계열', '성별', '입학과정', '학적', '학과', '전공', '전공교수', 'rec012_nation_cd',\n",
    "       '과정', '수료년도', '수료학기', 'rec012_birth_dt', 'gpa', 'rec012_school_term',\n",
    "       '인건비총액', '서류점수', '면접점수', '학부출신', '대학원출신']\n",
    "'''\n",
    "combined_undergrad.columns = ['Unnamed: 0', 'Unnamed: 0.1', 'Unnamed: 0.1.1', '학번', '학생소속대학명',\n",
    "       '학생교육부계열', '성별', '입학과정', '학적', '학과', '전공', '전공교수', 'nation_cd',\n",
    "       '과정', '수료년도', '수료학기', 'rec012_birth_dt', 'gpa', 'school_term',\n",
    "       '인건비총액', '서류점수', '면접점수', '학부출신', '대학원출신']\n",
    "\n",
    "undergrad_cat_features = ['학생소속대학명', '학생교육부계열', '성별', '입학과정', '학과', 'nation_cd', '학부출신']    #범주형 데이터\n",
    "undergrad_num_features = ['gpa', '서류점수', '면접점수', '인건비총액']       #연속형 데이터\n",
    "undergrad_term = ['school_term']\n",
    "\n",
    "for i in undergrad_cat_features:\n",
    "    combined_undergrad[i] = combined_undergrad[i].astype('category')\n",
    "\n",
    "X_undergrad = combined_undergrad[undergrad_cat_features + undergrad_num_features]\n",
    "\n",
    "y_undergrad = pd.DataFrame(model.predict(X_undergrad))"
   ]
  },
  {
   "cell_type": "code",
   "execution_count": null,
   "metadata": {},
   "outputs": [],
   "source": [
    "combined_undergrad['predicted_school_term'] = y_undergrad\n",
    "combined_undergrad.to_csv(os.path.join(os.getcwd(), 'prediction_result', 'eng_data', 'std_info_combined_eng_predicted.csv'))"
   ]
  },
  {
   "cell_type": "code",
   "execution_count": null,
   "metadata": {},
   "outputs": [],
   "source": []
  }
 ],
 "metadata": {
  "interpreter": {
   "hash": "3b877b1f7a01ee3f13579b88b14e81a6c392478055cee1e0634b92db773b747d"
  },
  "kernelspec": {
   "display_name": "Python 3",
   "language": "python",
   "name": "python3"
  },
  "language_info": {
   "codemirror_mode": {
    "name": "ipython",
    "version": 3
   },
   "file_extension": ".py",
   "mimetype": "text/x-python",
   "name": "python",
   "nbconvert_exporter": "python",
   "pygments_lexer": "ipython3",
   "version": "3.8.8"
  }
 },
 "nbformat": 4,
 "nbformat_minor": 2
}
